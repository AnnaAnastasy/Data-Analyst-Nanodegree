{
 "cells": [
  {
   "cell_type": "markdown",
   "metadata": {},
   "source": [
    "# Project: TMDb Movie Analysis\n",
    "\n",
    "## Table of Contents\n",
    "<ul>\n",
    "<li><a href=\"#intro\">Introduction</a></li>\n",
    "<li><a href=\"#wrangling\">Data Wrangling</a></li>\n",
    "<li><a href=\"#eda\">Exploratory Data Analysis</a></li>\n",
    "<li><a href=\"#conclusions\">Conclusions</a></li>\n",
    "</ul>"
   ]
  },
  {
   "cell_type": "markdown",
   "metadata": {},
   "source": [
    "<a id='intro'></a>\n",
    "## Introduction\n",
    "The Movie Database (TMDb) is a popular community built database for movies and TV shows.\n",
    "\n",
    "The goal of the project is to find out what successful movies have in common. Success can be measured in profit and in user ratings. So for this purpose, both profitability and popularity of movies will be analysed, answering the following questions:\n",
    "- Is higher budget always associated with higher revenue?\n",
    "- Which genres are associated with the highest profits per movie?\n",
    "- Which genres are the most popular? And which ones are the most voted?\n",
    "- Is the movie runtime associated with popularity?\n",
    "- As a bonus, what are the most popular movies / actors / directors?"
   ]
  },
  {
   "cell_type": "code",
   "execution_count": 1,
   "metadata": {},
   "outputs": [],
   "source": [
    "# import libraries\n",
    "%matplotlib inline\n",
    "import pandas as pd\n",
    "import numpy as np\n",
    "import matplotlib.pyplot as plt\n",
    "import seaborn as sns"
   ]
  },
  {
   "cell_type": "markdown",
   "metadata": {},
   "source": [
    "<a id='wrangling'></a>\n",
    "## Data Wrangling "
   ]
  },
  {
   "cell_type": "code",
   "execution_count": 2,
   "metadata": {},
   "outputs": [],
   "source": [
    "# load data with all columns dispayed\n",
    "pd.set_option('display.max_columns', 25)\n",
    "tmdb = pd.read_csv('tmdb-movies.csv')"
   ]
  },
  {
   "cell_type": "markdown",
   "metadata": {},
   "source": [
    "### Inicial Data Exploration"
   ]
  },
  {
   "cell_type": "code",
   "execution_count": 3,
   "metadata": {},
   "outputs": [
    {
     "data": {
      "text/html": [
       "<div>\n",
       "<style scoped>\n",
       "    .dataframe tbody tr th:only-of-type {\n",
       "        vertical-align: middle;\n",
       "    }\n",
       "\n",
       "    .dataframe tbody tr th {\n",
       "        vertical-align: top;\n",
       "    }\n",
       "\n",
       "    .dataframe thead th {\n",
       "        text-align: right;\n",
       "    }\n",
       "</style>\n",
       "<table border=\"1\" class=\"dataframe\">\n",
       "  <thead>\n",
       "    <tr style=\"text-align: right;\">\n",
       "      <th></th>\n",
       "      <th>id</th>\n",
       "      <th>imdb_id</th>\n",
       "      <th>popularity</th>\n",
       "      <th>budget</th>\n",
       "      <th>revenue</th>\n",
       "      <th>original_title</th>\n",
       "      <th>cast</th>\n",
       "      <th>homepage</th>\n",
       "      <th>director</th>\n",
       "      <th>tagline</th>\n",
       "      <th>keywords</th>\n",
       "      <th>overview</th>\n",
       "      <th>runtime</th>\n",
       "      <th>genres</th>\n",
       "      <th>production_companies</th>\n",
       "      <th>release_date</th>\n",
       "      <th>vote_count</th>\n",
       "      <th>vote_average</th>\n",
       "      <th>release_year</th>\n",
       "      <th>budget_adj</th>\n",
       "      <th>revenue_adj</th>\n",
       "    </tr>\n",
       "  </thead>\n",
       "  <tbody>\n",
       "    <tr>\n",
       "      <th>0</th>\n",
       "      <td>135397</td>\n",
       "      <td>tt0369610</td>\n",
       "      <td>32.985763</td>\n",
       "      <td>150000000</td>\n",
       "      <td>1513528810</td>\n",
       "      <td>Jurassic World</td>\n",
       "      <td>Chris Pratt|Bryce Dallas Howard|Irrfan Khan|Vi...</td>\n",
       "      <td>http://www.jurassicworld.com/</td>\n",
       "      <td>Colin Trevorrow</td>\n",
       "      <td>The park is open.</td>\n",
       "      <td>monster|dna|tyrannosaurus rex|velociraptor|island</td>\n",
       "      <td>Twenty-two years after the events of Jurassic ...</td>\n",
       "      <td>124</td>\n",
       "      <td>Action|Adventure|Science Fiction|Thriller</td>\n",
       "      <td>Universal Studios|Amblin Entertainment|Legenda...</td>\n",
       "      <td>6/9/15</td>\n",
       "      <td>5562</td>\n",
       "      <td>6.5</td>\n",
       "      <td>2015</td>\n",
       "      <td>1.379999e+08</td>\n",
       "      <td>1.392446e+09</td>\n",
       "    </tr>\n",
       "    <tr>\n",
       "      <th>1</th>\n",
       "      <td>76341</td>\n",
       "      <td>tt1392190</td>\n",
       "      <td>28.419936</td>\n",
       "      <td>150000000</td>\n",
       "      <td>378436354</td>\n",
       "      <td>Mad Max: Fury Road</td>\n",
       "      <td>Tom Hardy|Charlize Theron|Hugh Keays-Byrne|Nic...</td>\n",
       "      <td>http://www.madmaxmovie.com/</td>\n",
       "      <td>George Miller</td>\n",
       "      <td>What a Lovely Day.</td>\n",
       "      <td>future|chase|post-apocalyptic|dystopia|australia</td>\n",
       "      <td>An apocalyptic story set in the furthest reach...</td>\n",
       "      <td>120</td>\n",
       "      <td>Action|Adventure|Science Fiction|Thriller</td>\n",
       "      <td>Village Roadshow Pictures|Kennedy Miller Produ...</td>\n",
       "      <td>5/13/15</td>\n",
       "      <td>6185</td>\n",
       "      <td>7.1</td>\n",
       "      <td>2015</td>\n",
       "      <td>1.379999e+08</td>\n",
       "      <td>3.481613e+08</td>\n",
       "    </tr>\n",
       "    <tr>\n",
       "      <th>2</th>\n",
       "      <td>262500</td>\n",
       "      <td>tt2908446</td>\n",
       "      <td>13.112507</td>\n",
       "      <td>110000000</td>\n",
       "      <td>295238201</td>\n",
       "      <td>Insurgent</td>\n",
       "      <td>Shailene Woodley|Theo James|Kate Winslet|Ansel...</td>\n",
       "      <td>http://www.thedivergentseries.movie/#insurgent</td>\n",
       "      <td>Robert Schwentke</td>\n",
       "      <td>One Choice Can Destroy You</td>\n",
       "      <td>based on novel|revolution|dystopia|sequel|dyst...</td>\n",
       "      <td>Beatrice Prior must confront her inner demons ...</td>\n",
       "      <td>119</td>\n",
       "      <td>Adventure|Science Fiction|Thriller</td>\n",
       "      <td>Summit Entertainment|Mandeville Films|Red Wago...</td>\n",
       "      <td>3/18/15</td>\n",
       "      <td>2480</td>\n",
       "      <td>6.3</td>\n",
       "      <td>2015</td>\n",
       "      <td>1.012000e+08</td>\n",
       "      <td>2.716190e+08</td>\n",
       "    </tr>\n",
       "  </tbody>\n",
       "</table>\n",
       "</div>"
      ],
      "text/plain": [
       "       id    imdb_id  popularity     budget     revenue      original_title  \\\n",
       "0  135397  tt0369610   32.985763  150000000  1513528810      Jurassic World   \n",
       "1   76341  tt1392190   28.419936  150000000   378436354  Mad Max: Fury Road   \n",
       "2  262500  tt2908446   13.112507  110000000   295238201           Insurgent   \n",
       "\n",
       "                                                cast  \\\n",
       "0  Chris Pratt|Bryce Dallas Howard|Irrfan Khan|Vi...   \n",
       "1  Tom Hardy|Charlize Theron|Hugh Keays-Byrne|Nic...   \n",
       "2  Shailene Woodley|Theo James|Kate Winslet|Ansel...   \n",
       "\n",
       "                                         homepage          director  \\\n",
       "0                   http://www.jurassicworld.com/   Colin Trevorrow   \n",
       "1                     http://www.madmaxmovie.com/     George Miller   \n",
       "2  http://www.thedivergentseries.movie/#insurgent  Robert Schwentke   \n",
       "\n",
       "                      tagline  \\\n",
       "0           The park is open.   \n",
       "1          What a Lovely Day.   \n",
       "2  One Choice Can Destroy You   \n",
       "\n",
       "                                            keywords  \\\n",
       "0  monster|dna|tyrannosaurus rex|velociraptor|island   \n",
       "1   future|chase|post-apocalyptic|dystopia|australia   \n",
       "2  based on novel|revolution|dystopia|sequel|dyst...   \n",
       "\n",
       "                                            overview  runtime  \\\n",
       "0  Twenty-two years after the events of Jurassic ...      124   \n",
       "1  An apocalyptic story set in the furthest reach...      120   \n",
       "2  Beatrice Prior must confront her inner demons ...      119   \n",
       "\n",
       "                                      genres  \\\n",
       "0  Action|Adventure|Science Fiction|Thriller   \n",
       "1  Action|Adventure|Science Fiction|Thriller   \n",
       "2         Adventure|Science Fiction|Thriller   \n",
       "\n",
       "                                production_companies release_date  vote_count  \\\n",
       "0  Universal Studios|Amblin Entertainment|Legenda...       6/9/15        5562   \n",
       "1  Village Roadshow Pictures|Kennedy Miller Produ...      5/13/15        6185   \n",
       "2  Summit Entertainment|Mandeville Films|Red Wago...      3/18/15        2480   \n",
       "\n",
       "   vote_average  release_year    budget_adj   revenue_adj  \n",
       "0           6.5          2015  1.379999e+08  1.392446e+09  \n",
       "1           7.1          2015  1.379999e+08  3.481613e+08  \n",
       "2           6.3          2015  1.012000e+08  2.716190e+08  "
      ]
     },
     "execution_count": 3,
     "metadata": {},
     "output_type": "execute_result"
    }
   ],
   "source": [
    "tmdb.head(3)"
   ]
  },
  {
   "cell_type": "code",
   "execution_count": 4,
   "metadata": {},
   "outputs": [
    {
     "data": {
      "text/html": [
       "<div>\n",
       "<style scoped>\n",
       "    .dataframe tbody tr th:only-of-type {\n",
       "        vertical-align: middle;\n",
       "    }\n",
       "\n",
       "    .dataframe tbody tr th {\n",
       "        vertical-align: top;\n",
       "    }\n",
       "\n",
       "    .dataframe thead th {\n",
       "        text-align: right;\n",
       "    }\n",
       "</style>\n",
       "<table border=\"1\" class=\"dataframe\">\n",
       "  <thead>\n",
       "    <tr style=\"text-align: right;\">\n",
       "      <th></th>\n",
       "      <th>id</th>\n",
       "      <th>imdb_id</th>\n",
       "      <th>popularity</th>\n",
       "      <th>budget</th>\n",
       "      <th>revenue</th>\n",
       "      <th>original_title</th>\n",
       "      <th>cast</th>\n",
       "      <th>homepage</th>\n",
       "      <th>director</th>\n",
       "      <th>tagline</th>\n",
       "      <th>keywords</th>\n",
       "      <th>overview</th>\n",
       "      <th>runtime</th>\n",
       "      <th>genres</th>\n",
       "      <th>production_companies</th>\n",
       "      <th>release_date</th>\n",
       "      <th>vote_count</th>\n",
       "      <th>vote_average</th>\n",
       "      <th>release_year</th>\n",
       "      <th>budget_adj</th>\n",
       "      <th>revenue_adj</th>\n",
       "    </tr>\n",
       "  </thead>\n",
       "  <tbody>\n",
       "    <tr>\n",
       "      <th>10863</th>\n",
       "      <td>39768</td>\n",
       "      <td>tt0060161</td>\n",
       "      <td>0.065141</td>\n",
       "      <td>0</td>\n",
       "      <td>0</td>\n",
       "      <td>Beregis Avtomobilya</td>\n",
       "      <td>Innokentiy Smoktunovskiy|Oleg Efremov|Georgi Z...</td>\n",
       "      <td>NaN</td>\n",
       "      <td>Eldar Ryazanov</td>\n",
       "      <td>NaN</td>\n",
       "      <td>car|trolley|stealing car</td>\n",
       "      <td>An insurance agent who moonlights as a carthie...</td>\n",
       "      <td>94</td>\n",
       "      <td>Mystery|Comedy</td>\n",
       "      <td>Mosfilm</td>\n",
       "      <td>1/1/66</td>\n",
       "      <td>11</td>\n",
       "      <td>6.5</td>\n",
       "      <td>1966</td>\n",
       "      <td>0.000000</td>\n",
       "      <td>0.0</td>\n",
       "    </tr>\n",
       "    <tr>\n",
       "      <th>10864</th>\n",
       "      <td>21449</td>\n",
       "      <td>tt0061177</td>\n",
       "      <td>0.064317</td>\n",
       "      <td>0</td>\n",
       "      <td>0</td>\n",
       "      <td>What's Up, Tiger Lily?</td>\n",
       "      <td>Tatsuya Mihashi|Akiko Wakabayashi|Mie Hama|Joh...</td>\n",
       "      <td>NaN</td>\n",
       "      <td>Woody Allen</td>\n",
       "      <td>WOODY ALLEN STRIKES BACK!</td>\n",
       "      <td>spoof</td>\n",
       "      <td>In comic Woody Allen's film debut, he took the...</td>\n",
       "      <td>80</td>\n",
       "      <td>Action|Comedy</td>\n",
       "      <td>Benedict Pictures Corp.</td>\n",
       "      <td>11/2/66</td>\n",
       "      <td>22</td>\n",
       "      <td>5.4</td>\n",
       "      <td>1966</td>\n",
       "      <td>0.000000</td>\n",
       "      <td>0.0</td>\n",
       "    </tr>\n",
       "    <tr>\n",
       "      <th>10865</th>\n",
       "      <td>22293</td>\n",
       "      <td>tt0060666</td>\n",
       "      <td>0.035919</td>\n",
       "      <td>19000</td>\n",
       "      <td>0</td>\n",
       "      <td>Manos: The Hands of Fate</td>\n",
       "      <td>Harold P. Warren|Tom Neyman|John Reynolds|Dian...</td>\n",
       "      <td>NaN</td>\n",
       "      <td>Harold P. Warren</td>\n",
       "      <td>It's Shocking! It's Beyond Your Imagination!</td>\n",
       "      <td>fire|gun|drive|sacrifice|flashlight</td>\n",
       "      <td>A family gets lost on the road and stumbles up...</td>\n",
       "      <td>74</td>\n",
       "      <td>Horror</td>\n",
       "      <td>Norm-Iris</td>\n",
       "      <td>11/15/66</td>\n",
       "      <td>15</td>\n",
       "      <td>1.5</td>\n",
       "      <td>1966</td>\n",
       "      <td>127642.279154</td>\n",
       "      <td>0.0</td>\n",
       "    </tr>\n",
       "  </tbody>\n",
       "</table>\n",
       "</div>"
      ],
      "text/plain": [
       "          id    imdb_id  popularity  budget  revenue  \\\n",
       "10863  39768  tt0060161    0.065141       0        0   \n",
       "10864  21449  tt0061177    0.064317       0        0   \n",
       "10865  22293  tt0060666    0.035919   19000        0   \n",
       "\n",
       "                 original_title  \\\n",
       "10863       Beregis Avtomobilya   \n",
       "10864    What's Up, Tiger Lily?   \n",
       "10865  Manos: The Hands of Fate   \n",
       "\n",
       "                                                    cast homepage  \\\n",
       "10863  Innokentiy Smoktunovskiy|Oleg Efremov|Georgi Z...      NaN   \n",
       "10864  Tatsuya Mihashi|Akiko Wakabayashi|Mie Hama|Joh...      NaN   \n",
       "10865  Harold P. Warren|Tom Neyman|John Reynolds|Dian...      NaN   \n",
       "\n",
       "               director                                       tagline  \\\n",
       "10863    Eldar Ryazanov                                           NaN   \n",
       "10864       Woody Allen                     WOODY ALLEN STRIKES BACK!   \n",
       "10865  Harold P. Warren  It's Shocking! It's Beyond Your Imagination!   \n",
       "\n",
       "                                  keywords  \\\n",
       "10863             car|trolley|stealing car   \n",
       "10864                                spoof   \n",
       "10865  fire|gun|drive|sacrifice|flashlight   \n",
       "\n",
       "                                                overview  runtime  \\\n",
       "10863  An insurance agent who moonlights as a carthie...       94   \n",
       "10864  In comic Woody Allen's film debut, he took the...       80   \n",
       "10865  A family gets lost on the road and stumbles up...       74   \n",
       "\n",
       "               genres     production_companies release_date  vote_count  \\\n",
       "10863  Mystery|Comedy                  Mosfilm       1/1/66          11   \n",
       "10864   Action|Comedy  Benedict Pictures Corp.      11/2/66          22   \n",
       "10865          Horror                Norm-Iris     11/15/66          15   \n",
       "\n",
       "       vote_average  release_year     budget_adj  revenue_adj  \n",
       "10863           6.5          1966       0.000000          0.0  \n",
       "10864           5.4          1966       0.000000          0.0  \n",
       "10865           1.5          1966  127642.279154          0.0  "
      ]
     },
     "execution_count": 4,
     "metadata": {},
     "output_type": "execute_result"
    }
   ],
   "source": [
    "tmdb.tail(3)"
   ]
  },
  {
   "cell_type": "code",
   "execution_count": 5,
   "metadata": {
    "scrolled": true
   },
   "outputs": [
    {
     "data": {
      "text/plain": [
       "(10866, 21)"
      ]
     },
     "execution_count": 5,
     "metadata": {},
     "output_type": "execute_result"
    }
   ],
   "source": [
    "tmdb.shape"
   ]
  },
  {
   "cell_type": "code",
   "execution_count": 6,
   "metadata": {},
   "outputs": [
    {
     "name": "stdout",
     "output_type": "stream",
     "text": [
      "<class 'pandas.core.frame.DataFrame'>\n",
      "RangeIndex: 10866 entries, 0 to 10865\n",
      "Data columns (total 21 columns):\n",
      " #   Column                Non-Null Count  Dtype  \n",
      "---  ------                --------------  -----  \n",
      " 0   id                    10866 non-null  int64  \n",
      " 1   imdb_id               10856 non-null  object \n",
      " 2   popularity            10866 non-null  float64\n",
      " 3   budget                10866 non-null  int64  \n",
      " 4   revenue               10866 non-null  int64  \n",
      " 5   original_title        10866 non-null  object \n",
      " 6   cast                  10790 non-null  object \n",
      " 7   homepage              2936 non-null   object \n",
      " 8   director              10822 non-null  object \n",
      " 9   tagline               8042 non-null   object \n",
      " 10  keywords              9373 non-null   object \n",
      " 11  overview              10862 non-null  object \n",
      " 12  runtime               10866 non-null  int64  \n",
      " 13  genres                10843 non-null  object \n",
      " 14  production_companies  9836 non-null   object \n",
      " 15  release_date          10866 non-null  object \n",
      " 16  vote_count            10866 non-null  int64  \n",
      " 17  vote_average          10866 non-null  float64\n",
      " 18  release_year          10866 non-null  int64  \n",
      " 19  budget_adj            10866 non-null  float64\n",
      " 20  revenue_adj           10866 non-null  float64\n",
      "dtypes: float64(4), int64(6), object(11)\n",
      "memory usage: 1.7+ MB\n"
     ]
    }
   ],
   "source": [
    "tmdb.info()"
   ]
  },
  {
   "cell_type": "code",
   "execution_count": 7,
   "metadata": {
    "scrolled": true
   },
   "outputs": [
    {
     "data": {
      "text/html": [
       "<div>\n",
       "<style scoped>\n",
       "    .dataframe tbody tr th:only-of-type {\n",
       "        vertical-align: middle;\n",
       "    }\n",
       "\n",
       "    .dataframe tbody tr th {\n",
       "        vertical-align: top;\n",
       "    }\n",
       "\n",
       "    .dataframe thead th {\n",
       "        text-align: right;\n",
       "    }\n",
       "</style>\n",
       "<table border=\"1\" class=\"dataframe\">\n",
       "  <thead>\n",
       "    <tr style=\"text-align: right;\">\n",
       "      <th></th>\n",
       "      <th>id</th>\n",
       "      <th>imdb_id</th>\n",
       "      <th>popularity</th>\n",
       "      <th>budget</th>\n",
       "      <th>revenue</th>\n",
       "      <th>original_title</th>\n",
       "      <th>cast</th>\n",
       "      <th>homepage</th>\n",
       "      <th>director</th>\n",
       "      <th>tagline</th>\n",
       "      <th>keywords</th>\n",
       "      <th>overview</th>\n",
       "      <th>runtime</th>\n",
       "      <th>genres</th>\n",
       "      <th>production_companies</th>\n",
       "      <th>release_date</th>\n",
       "      <th>vote_count</th>\n",
       "      <th>vote_average</th>\n",
       "      <th>release_year</th>\n",
       "      <th>budget_adj</th>\n",
       "      <th>revenue_adj</th>\n",
       "    </tr>\n",
       "  </thead>\n",
       "  <tbody>\n",
       "    <tr>\n",
       "      <th>count</th>\n",
       "      <td>10866.000000</td>\n",
       "      <td>10856</td>\n",
       "      <td>10866.000000</td>\n",
       "      <td>1.086600e+04</td>\n",
       "      <td>1.086600e+04</td>\n",
       "      <td>10866</td>\n",
       "      <td>10790</td>\n",
       "      <td>2936</td>\n",
       "      <td>10822</td>\n",
       "      <td>8042</td>\n",
       "      <td>9373</td>\n",
       "      <td>10862</td>\n",
       "      <td>10866.000000</td>\n",
       "      <td>10843</td>\n",
       "      <td>9836</td>\n",
       "      <td>10866</td>\n",
       "      <td>10866.000000</td>\n",
       "      <td>10866.000000</td>\n",
       "      <td>10866.000000</td>\n",
       "      <td>1.086600e+04</td>\n",
       "      <td>1.086600e+04</td>\n",
       "    </tr>\n",
       "    <tr>\n",
       "      <th>unique</th>\n",
       "      <td>NaN</td>\n",
       "      <td>10855</td>\n",
       "      <td>NaN</td>\n",
       "      <td>NaN</td>\n",
       "      <td>NaN</td>\n",
       "      <td>10571</td>\n",
       "      <td>10719</td>\n",
       "      <td>2896</td>\n",
       "      <td>5067</td>\n",
       "      <td>7997</td>\n",
       "      <td>8804</td>\n",
       "      <td>10847</td>\n",
       "      <td>NaN</td>\n",
       "      <td>2039</td>\n",
       "      <td>7445</td>\n",
       "      <td>5909</td>\n",
       "      <td>NaN</td>\n",
       "      <td>NaN</td>\n",
       "      <td>NaN</td>\n",
       "      <td>NaN</td>\n",
       "      <td>NaN</td>\n",
       "    </tr>\n",
       "    <tr>\n",
       "      <th>top</th>\n",
       "      <td>NaN</td>\n",
       "      <td>tt0411951</td>\n",
       "      <td>NaN</td>\n",
       "      <td>NaN</td>\n",
       "      <td>NaN</td>\n",
       "      <td>Hamlet</td>\n",
       "      <td>Louis C.K.</td>\n",
       "      <td>http://phantasm.com</td>\n",
       "      <td>Woody Allen</td>\n",
       "      <td>Based on a true story.</td>\n",
       "      <td>woman director</td>\n",
       "      <td>No overview found.</td>\n",
       "      <td>NaN</td>\n",
       "      <td>Drama</td>\n",
       "      <td>Paramount Pictures</td>\n",
       "      <td>1/1/09</td>\n",
       "      <td>NaN</td>\n",
       "      <td>NaN</td>\n",
       "      <td>NaN</td>\n",
       "      <td>NaN</td>\n",
       "      <td>NaN</td>\n",
       "    </tr>\n",
       "    <tr>\n",
       "      <th>freq</th>\n",
       "      <td>NaN</td>\n",
       "      <td>2</td>\n",
       "      <td>NaN</td>\n",
       "      <td>NaN</td>\n",
       "      <td>NaN</td>\n",
       "      <td>4</td>\n",
       "      <td>6</td>\n",
       "      <td>4</td>\n",
       "      <td>45</td>\n",
       "      <td>5</td>\n",
       "      <td>134</td>\n",
       "      <td>13</td>\n",
       "      <td>NaN</td>\n",
       "      <td>712</td>\n",
       "      <td>156</td>\n",
       "      <td>28</td>\n",
       "      <td>NaN</td>\n",
       "      <td>NaN</td>\n",
       "      <td>NaN</td>\n",
       "      <td>NaN</td>\n",
       "      <td>NaN</td>\n",
       "    </tr>\n",
       "    <tr>\n",
       "      <th>mean</th>\n",
       "      <td>66064.177434</td>\n",
       "      <td>NaN</td>\n",
       "      <td>0.646441</td>\n",
       "      <td>1.462570e+07</td>\n",
       "      <td>3.982332e+07</td>\n",
       "      <td>NaN</td>\n",
       "      <td>NaN</td>\n",
       "      <td>NaN</td>\n",
       "      <td>NaN</td>\n",
       "      <td>NaN</td>\n",
       "      <td>NaN</td>\n",
       "      <td>NaN</td>\n",
       "      <td>102.070863</td>\n",
       "      <td>NaN</td>\n",
       "      <td>NaN</td>\n",
       "      <td>NaN</td>\n",
       "      <td>217.389748</td>\n",
       "      <td>5.974922</td>\n",
       "      <td>2001.322658</td>\n",
       "      <td>1.755104e+07</td>\n",
       "      <td>5.136436e+07</td>\n",
       "    </tr>\n",
       "    <tr>\n",
       "      <th>std</th>\n",
       "      <td>92130.136561</td>\n",
       "      <td>NaN</td>\n",
       "      <td>1.000185</td>\n",
       "      <td>3.091321e+07</td>\n",
       "      <td>1.170035e+08</td>\n",
       "      <td>NaN</td>\n",
       "      <td>NaN</td>\n",
       "      <td>NaN</td>\n",
       "      <td>NaN</td>\n",
       "      <td>NaN</td>\n",
       "      <td>NaN</td>\n",
       "      <td>NaN</td>\n",
       "      <td>31.381405</td>\n",
       "      <td>NaN</td>\n",
       "      <td>NaN</td>\n",
       "      <td>NaN</td>\n",
       "      <td>575.619058</td>\n",
       "      <td>0.935142</td>\n",
       "      <td>12.812941</td>\n",
       "      <td>3.430616e+07</td>\n",
       "      <td>1.446325e+08</td>\n",
       "    </tr>\n",
       "    <tr>\n",
       "      <th>min</th>\n",
       "      <td>5.000000</td>\n",
       "      <td>NaN</td>\n",
       "      <td>0.000065</td>\n",
       "      <td>0.000000e+00</td>\n",
       "      <td>0.000000e+00</td>\n",
       "      <td>NaN</td>\n",
       "      <td>NaN</td>\n",
       "      <td>NaN</td>\n",
       "      <td>NaN</td>\n",
       "      <td>NaN</td>\n",
       "      <td>NaN</td>\n",
       "      <td>NaN</td>\n",
       "      <td>0.000000</td>\n",
       "      <td>NaN</td>\n",
       "      <td>NaN</td>\n",
       "      <td>NaN</td>\n",
       "      <td>10.000000</td>\n",
       "      <td>1.500000</td>\n",
       "      <td>1960.000000</td>\n",
       "      <td>0.000000e+00</td>\n",
       "      <td>0.000000e+00</td>\n",
       "    </tr>\n",
       "    <tr>\n",
       "      <th>25%</th>\n",
       "      <td>10596.250000</td>\n",
       "      <td>NaN</td>\n",
       "      <td>0.207583</td>\n",
       "      <td>0.000000e+00</td>\n",
       "      <td>0.000000e+00</td>\n",
       "      <td>NaN</td>\n",
       "      <td>NaN</td>\n",
       "      <td>NaN</td>\n",
       "      <td>NaN</td>\n",
       "      <td>NaN</td>\n",
       "      <td>NaN</td>\n",
       "      <td>NaN</td>\n",
       "      <td>90.000000</td>\n",
       "      <td>NaN</td>\n",
       "      <td>NaN</td>\n",
       "      <td>NaN</td>\n",
       "      <td>17.000000</td>\n",
       "      <td>5.400000</td>\n",
       "      <td>1995.000000</td>\n",
       "      <td>0.000000e+00</td>\n",
       "      <td>0.000000e+00</td>\n",
       "    </tr>\n",
       "    <tr>\n",
       "      <th>50%</th>\n",
       "      <td>20669.000000</td>\n",
       "      <td>NaN</td>\n",
       "      <td>0.383856</td>\n",
       "      <td>0.000000e+00</td>\n",
       "      <td>0.000000e+00</td>\n",
       "      <td>NaN</td>\n",
       "      <td>NaN</td>\n",
       "      <td>NaN</td>\n",
       "      <td>NaN</td>\n",
       "      <td>NaN</td>\n",
       "      <td>NaN</td>\n",
       "      <td>NaN</td>\n",
       "      <td>99.000000</td>\n",
       "      <td>NaN</td>\n",
       "      <td>NaN</td>\n",
       "      <td>NaN</td>\n",
       "      <td>38.000000</td>\n",
       "      <td>6.000000</td>\n",
       "      <td>2006.000000</td>\n",
       "      <td>0.000000e+00</td>\n",
       "      <td>0.000000e+00</td>\n",
       "    </tr>\n",
       "    <tr>\n",
       "      <th>75%</th>\n",
       "      <td>75610.000000</td>\n",
       "      <td>NaN</td>\n",
       "      <td>0.713817</td>\n",
       "      <td>1.500000e+07</td>\n",
       "      <td>2.400000e+07</td>\n",
       "      <td>NaN</td>\n",
       "      <td>NaN</td>\n",
       "      <td>NaN</td>\n",
       "      <td>NaN</td>\n",
       "      <td>NaN</td>\n",
       "      <td>NaN</td>\n",
       "      <td>NaN</td>\n",
       "      <td>111.000000</td>\n",
       "      <td>NaN</td>\n",
       "      <td>NaN</td>\n",
       "      <td>NaN</td>\n",
       "      <td>145.750000</td>\n",
       "      <td>6.600000</td>\n",
       "      <td>2011.000000</td>\n",
       "      <td>2.085325e+07</td>\n",
       "      <td>3.369710e+07</td>\n",
       "    </tr>\n",
       "    <tr>\n",
       "      <th>max</th>\n",
       "      <td>417859.000000</td>\n",
       "      <td>NaN</td>\n",
       "      <td>32.985763</td>\n",
       "      <td>4.250000e+08</td>\n",
       "      <td>2.781506e+09</td>\n",
       "      <td>NaN</td>\n",
       "      <td>NaN</td>\n",
       "      <td>NaN</td>\n",
       "      <td>NaN</td>\n",
       "      <td>NaN</td>\n",
       "      <td>NaN</td>\n",
       "      <td>NaN</td>\n",
       "      <td>900.000000</td>\n",
       "      <td>NaN</td>\n",
       "      <td>NaN</td>\n",
       "      <td>NaN</td>\n",
       "      <td>9767.000000</td>\n",
       "      <td>9.200000</td>\n",
       "      <td>2015.000000</td>\n",
       "      <td>4.250000e+08</td>\n",
       "      <td>2.827124e+09</td>\n",
       "    </tr>\n",
       "  </tbody>\n",
       "</table>\n",
       "</div>"
      ],
      "text/plain": [
       "                   id    imdb_id    popularity        budget       revenue  \\\n",
       "count    10866.000000      10856  10866.000000  1.086600e+04  1.086600e+04   \n",
       "unique            NaN      10855           NaN           NaN           NaN   \n",
       "top               NaN  tt0411951           NaN           NaN           NaN   \n",
       "freq              NaN          2           NaN           NaN           NaN   \n",
       "mean     66064.177434        NaN      0.646441  1.462570e+07  3.982332e+07   \n",
       "std      92130.136561        NaN      1.000185  3.091321e+07  1.170035e+08   \n",
       "min          5.000000        NaN      0.000065  0.000000e+00  0.000000e+00   \n",
       "25%      10596.250000        NaN      0.207583  0.000000e+00  0.000000e+00   \n",
       "50%      20669.000000        NaN      0.383856  0.000000e+00  0.000000e+00   \n",
       "75%      75610.000000        NaN      0.713817  1.500000e+07  2.400000e+07   \n",
       "max     417859.000000        NaN     32.985763  4.250000e+08  2.781506e+09   \n",
       "\n",
       "       original_title        cast             homepage     director  \\\n",
       "count           10866       10790                 2936        10822   \n",
       "unique          10571       10719                 2896         5067   \n",
       "top            Hamlet  Louis C.K.  http://phantasm.com  Woody Allen   \n",
       "freq                4           6                    4           45   \n",
       "mean              NaN         NaN                  NaN          NaN   \n",
       "std               NaN         NaN                  NaN          NaN   \n",
       "min               NaN         NaN                  NaN          NaN   \n",
       "25%               NaN         NaN                  NaN          NaN   \n",
       "50%               NaN         NaN                  NaN          NaN   \n",
       "75%               NaN         NaN                  NaN          NaN   \n",
       "max               NaN         NaN                  NaN          NaN   \n",
       "\n",
       "                       tagline        keywords            overview  \\\n",
       "count                     8042            9373               10862   \n",
       "unique                    7997            8804               10847   \n",
       "top     Based on a true story.  woman director  No overview found.   \n",
       "freq                         5             134                  13   \n",
       "mean                       NaN             NaN                 NaN   \n",
       "std                        NaN             NaN                 NaN   \n",
       "min                        NaN             NaN                 NaN   \n",
       "25%                        NaN             NaN                 NaN   \n",
       "50%                        NaN             NaN                 NaN   \n",
       "75%                        NaN             NaN                 NaN   \n",
       "max                        NaN             NaN                 NaN   \n",
       "\n",
       "             runtime genres production_companies release_date    vote_count  \\\n",
       "count   10866.000000  10843                 9836        10866  10866.000000   \n",
       "unique           NaN   2039                 7445         5909           NaN   \n",
       "top              NaN  Drama   Paramount Pictures       1/1/09           NaN   \n",
       "freq             NaN    712                  156           28           NaN   \n",
       "mean      102.070863    NaN                  NaN          NaN    217.389748   \n",
       "std        31.381405    NaN                  NaN          NaN    575.619058   \n",
       "min         0.000000    NaN                  NaN          NaN     10.000000   \n",
       "25%        90.000000    NaN                  NaN          NaN     17.000000   \n",
       "50%        99.000000    NaN                  NaN          NaN     38.000000   \n",
       "75%       111.000000    NaN                  NaN          NaN    145.750000   \n",
       "max       900.000000    NaN                  NaN          NaN   9767.000000   \n",
       "\n",
       "        vote_average  release_year    budget_adj   revenue_adj  \n",
       "count   10866.000000  10866.000000  1.086600e+04  1.086600e+04  \n",
       "unique           NaN           NaN           NaN           NaN  \n",
       "top              NaN           NaN           NaN           NaN  \n",
       "freq             NaN           NaN           NaN           NaN  \n",
       "mean        5.974922   2001.322658  1.755104e+07  5.136436e+07  \n",
       "std         0.935142     12.812941  3.430616e+07  1.446325e+08  \n",
       "min         1.500000   1960.000000  0.000000e+00  0.000000e+00  \n",
       "25%         5.400000   1995.000000  0.000000e+00  0.000000e+00  \n",
       "50%         6.000000   2006.000000  0.000000e+00  0.000000e+00  \n",
       "75%         6.600000   2011.000000  2.085325e+07  3.369710e+07  \n",
       "max         9.200000   2015.000000  4.250000e+08  2.827124e+09  "
      ]
     },
     "execution_count": 7,
     "metadata": {},
     "output_type": "execute_result"
    }
   ],
   "source": [
    "tmdb.describe(include='all')"
   ]
  },
  {
   "cell_type": "markdown",
   "metadata": {},
   "source": [
    "The column `imdb_id` has 2 rows with the same value:"
   ]
  },
  {
   "cell_type": "code",
   "execution_count": 8,
   "metadata": {},
   "outputs": [
    {
     "data": {
      "text/html": [
       "<div>\n",
       "<style scoped>\n",
       "    .dataframe tbody tr th:only-of-type {\n",
       "        vertical-align: middle;\n",
       "    }\n",
       "\n",
       "    .dataframe tbody tr th {\n",
       "        vertical-align: top;\n",
       "    }\n",
       "\n",
       "    .dataframe thead th {\n",
       "        text-align: right;\n",
       "    }\n",
       "</style>\n",
       "<table border=\"1\" class=\"dataframe\">\n",
       "  <thead>\n",
       "    <tr style=\"text-align: right;\">\n",
       "      <th></th>\n",
       "      <th>id</th>\n",
       "      <th>imdb_id</th>\n",
       "      <th>popularity</th>\n",
       "      <th>budget</th>\n",
       "      <th>revenue</th>\n",
       "      <th>original_title</th>\n",
       "      <th>cast</th>\n",
       "      <th>homepage</th>\n",
       "      <th>director</th>\n",
       "      <th>tagline</th>\n",
       "      <th>keywords</th>\n",
       "      <th>overview</th>\n",
       "      <th>runtime</th>\n",
       "      <th>genres</th>\n",
       "      <th>production_companies</th>\n",
       "      <th>release_date</th>\n",
       "      <th>vote_count</th>\n",
       "      <th>vote_average</th>\n",
       "      <th>release_year</th>\n",
       "      <th>budget_adj</th>\n",
       "      <th>revenue_adj</th>\n",
       "    </tr>\n",
       "  </thead>\n",
       "  <tbody>\n",
       "    <tr>\n",
       "      <th>2089</th>\n",
       "      <td>42194</td>\n",
       "      <td>tt0411951</td>\n",
       "      <td>0.59643</td>\n",
       "      <td>30000000</td>\n",
       "      <td>967000</td>\n",
       "      <td>TEKKEN</td>\n",
       "      <td>Jon Foo|Kelly Overton|Cary-Hiroyuki Tagawa|Ian...</td>\n",
       "      <td>NaN</td>\n",
       "      <td>Dwight H. Little</td>\n",
       "      <td>Survival is no game</td>\n",
       "      <td>martial arts|dystopia|based on video game|mart...</td>\n",
       "      <td>In the year of 2039, after World Wars destroy ...</td>\n",
       "      <td>92</td>\n",
       "      <td>Crime|Drama|Action|Thriller|Science Fiction</td>\n",
       "      <td>Namco|Light Song Films</td>\n",
       "      <td>3/20/10</td>\n",
       "      <td>110</td>\n",
       "      <td>5.0</td>\n",
       "      <td>2010</td>\n",
       "      <td>30000000.0</td>\n",
       "      <td>967000.0</td>\n",
       "    </tr>\n",
       "    <tr>\n",
       "      <th>2090</th>\n",
       "      <td>42194</td>\n",
       "      <td>tt0411951</td>\n",
       "      <td>0.59643</td>\n",
       "      <td>30000000</td>\n",
       "      <td>967000</td>\n",
       "      <td>TEKKEN</td>\n",
       "      <td>Jon Foo|Kelly Overton|Cary-Hiroyuki Tagawa|Ian...</td>\n",
       "      <td>NaN</td>\n",
       "      <td>Dwight H. Little</td>\n",
       "      <td>Survival is no game</td>\n",
       "      <td>martial arts|dystopia|based on video game|mart...</td>\n",
       "      <td>In the year of 2039, after World Wars destroy ...</td>\n",
       "      <td>92</td>\n",
       "      <td>Crime|Drama|Action|Thriller|Science Fiction</td>\n",
       "      <td>Namco|Light Song Films</td>\n",
       "      <td>3/20/10</td>\n",
       "      <td>110</td>\n",
       "      <td>5.0</td>\n",
       "      <td>2010</td>\n",
       "      <td>30000000.0</td>\n",
       "      <td>967000.0</td>\n",
       "    </tr>\n",
       "  </tbody>\n",
       "</table>\n",
       "</div>"
      ],
      "text/plain": [
       "         id    imdb_id  popularity    budget  revenue original_title  \\\n",
       "2089  42194  tt0411951     0.59643  30000000   967000         TEKKEN   \n",
       "2090  42194  tt0411951     0.59643  30000000   967000         TEKKEN   \n",
       "\n",
       "                                                   cast homepage  \\\n",
       "2089  Jon Foo|Kelly Overton|Cary-Hiroyuki Tagawa|Ian...      NaN   \n",
       "2090  Jon Foo|Kelly Overton|Cary-Hiroyuki Tagawa|Ian...      NaN   \n",
       "\n",
       "              director              tagline  \\\n",
       "2089  Dwight H. Little  Survival is no game   \n",
       "2090  Dwight H. Little  Survival is no game   \n",
       "\n",
       "                                               keywords  \\\n",
       "2089  martial arts|dystopia|based on video game|mart...   \n",
       "2090  martial arts|dystopia|based on video game|mart...   \n",
       "\n",
       "                                               overview  runtime  \\\n",
       "2089  In the year of 2039, after World Wars destroy ...       92   \n",
       "2090  In the year of 2039, after World Wars destroy ...       92   \n",
       "\n",
       "                                           genres    production_companies  \\\n",
       "2089  Crime|Drama|Action|Thriller|Science Fiction  Namco|Light Song Films   \n",
       "2090  Crime|Drama|Action|Thriller|Science Fiction  Namco|Light Song Films   \n",
       "\n",
       "     release_date  vote_count  vote_average  release_year  budget_adj  \\\n",
       "2089      3/20/10         110           5.0          2010  30000000.0   \n",
       "2090      3/20/10         110           5.0          2010  30000000.0   \n",
       "\n",
       "      revenue_adj  \n",
       "2089     967000.0  \n",
       "2090     967000.0  "
      ]
     },
     "execution_count": 8,
     "metadata": {},
     "output_type": "execute_result"
    }
   ],
   "source": [
    "tmdb[tmdb['imdb_id'] == 'tt0411951']"
   ]
  },
  {
   "cell_type": "code",
   "execution_count": 9,
   "metadata": {},
   "outputs": [
    {
     "data": {
      "text/plain": [
       "1"
      ]
     },
     "execution_count": 9,
     "metadata": {},
     "output_type": "execute_result"
    }
   ],
   "source": [
    "tmdb.duplicated().sum()"
   ]
  },
  {
   "cell_type": "code",
   "execution_count": 10,
   "metadata": {},
   "outputs": [
    {
     "name": "stdout",
     "output_type": "stream",
     "text": [
      "64.52 % of all rows contain 0s in 'budget_adj' or 'revenue_adj' columns.\n"
     ]
    }
   ],
   "source": [
    "# find how many rows have 0 in budget_adj or in revenue_adj\n",
    "zeros = tmdb[(tmdb['budget_adj'] == 0) | (tmdb['revenue_adj'] == 0)].shape\n",
    "df_shape = tmdb.shape\n",
    "percent = zeros[0] / df_shape[0] * 100\n",
    "print(round(percent, 2), \"% of all rows contain 0s in 'budget_adj' or 'revenue_adj' columns.\")"
   ]
  },
  {
   "cell_type": "markdown",
   "metadata": {},
   "source": [
    "#### Observations from inicial data exploration:\n",
    "- The dataset contains 21 columns but few of them do not seem useful for the purpose of the project. \n",
    "- There is one duplicated row.\n",
    "- Less than half of columns have some missing values (with less than 25% of values are null). But one column (`homepage`) has higher amount of null data (≈75%) .\n",
    "- The column names are clear and use Python's preferred snakecase. There is no need to change them.\n",
    "- The final two columns ending with `_adj` show the budget and revenue of the associated movie in terms of 2010 dollars, accounting for inflation over time. But almost 65% of rows contain `0` value in one of these two columns.\n",
    "- Data types seem fine, except for:\n",
    "    - `release_date` that can be changed to datetime object\n",
    "    - `budget_adj` / `revenue_adj` should be changed to integers\n",
    "- Columns `cast`, `genres`, `keywords`, `production_companies`, `director` contain multiple values separated by pipe (|) characters."
   ]
  },
  {
   "cell_type": "markdown",
   "metadata": {},
   "source": [
    "## Data Cleaning\n",
    "### Part 1. Removing a Duplicate Row"
   ]
  },
  {
   "cell_type": "code",
   "execution_count": 11,
   "metadata": {},
   "outputs": [
    {
     "name": "stdout",
     "output_type": "stream",
     "text": [
      "1 duplicated row was removed from the dataset.\n"
     ]
    }
   ],
   "source": [
    "before = tmdb.shape[0]\n",
    "tmdb.drop_duplicates(keep='first', inplace=True)\n",
    "after = tmdb.shape[0]\n",
    "\n",
    "print(before - after, 'duplicated row was removed from the dataset.')"
   ]
  },
  {
   "cell_type": "markdown",
   "metadata": {},
   "source": [
    "### Part 2. Dropping Unnecessary Columns\n",
    "Columns to drop:\n",
    "- imdb_id / budget / revenue - there are other similar columns that will be used instead \n",
    "- homepage - has too many missing data and does not provide any valuable information\n",
    "- tagline / keywords / overview - textual description that is hard to turn into useful a feature  \n",
    "- production_companies - won't be used in the analyis"
   ]
  },
  {
   "cell_type": "code",
   "execution_count": 12,
   "metadata": {},
   "outputs": [
    {
     "data": {
      "text/plain": [
       "(10865, 13)"
      ]
     },
     "execution_count": 12,
     "metadata": {},
     "output_type": "execute_result"
    }
   ],
   "source": [
    "columns = ['imdb_id', 'budget', 'revenue', 'homepage', 'tagline', 'keywords', \n",
    "           'overview', 'production_companies']\n",
    "tmdb.drop(columns=columns, axis=1, inplace=True)\n",
    "tmdb.shape"
   ]
  },
  {
   "cell_type": "markdown",
   "metadata": {},
   "source": [
    "### Part 3. Dealing with Missing Values\n",
    "First of all, let's see how many missing values each column has and then investigate what is the best way to replace them:"
   ]
  },
  {
   "cell_type": "code",
   "execution_count": 13,
   "metadata": {},
   "outputs": [
    {
     "data": {
      "text/plain": [
       "id                 0\n",
       "popularity         0\n",
       "original_title     0\n",
       "cast              76\n",
       "director          44\n",
       "runtime            0\n",
       "genres            23\n",
       "release_date       0\n",
       "vote_count         0\n",
       "vote_average       0\n",
       "release_year       0\n",
       "budget_adj         0\n",
       "revenue_adj        0\n",
       "dtype: int64"
      ]
     },
     "execution_count": 13,
     "metadata": {},
     "output_type": "execute_result"
    }
   ],
   "source": [
    "tmdb.isnull().sum()"
   ]
  },
  {
   "cell_type": "code",
   "execution_count": 14,
   "metadata": {},
   "outputs": [
    {
     "data": {
      "text/html": [
       "<div>\n",
       "<style scoped>\n",
       "    .dataframe tbody tr th:only-of-type {\n",
       "        vertical-align: middle;\n",
       "    }\n",
       "\n",
       "    .dataframe tbody tr th {\n",
       "        vertical-align: top;\n",
       "    }\n",
       "\n",
       "    .dataframe thead th {\n",
       "        text-align: right;\n",
       "    }\n",
       "</style>\n",
       "<table border=\"1\" class=\"dataframe\">\n",
       "  <thead>\n",
       "    <tr style=\"text-align: right;\">\n",
       "      <th></th>\n",
       "      <th>cast</th>\n",
       "      <th>director</th>\n",
       "      <th>genres</th>\n",
       "    </tr>\n",
       "  </thead>\n",
       "  <tbody>\n",
       "    <tr>\n",
       "      <th>count</th>\n",
       "      <td>10789</td>\n",
       "      <td>10821</td>\n",
       "      <td>10842</td>\n",
       "    </tr>\n",
       "    <tr>\n",
       "      <th>unique</th>\n",
       "      <td>10719</td>\n",
       "      <td>5067</td>\n",
       "      <td>2039</td>\n",
       "    </tr>\n",
       "    <tr>\n",
       "      <th>top</th>\n",
       "      <td>Louis C.K.</td>\n",
       "      <td>Woody Allen</td>\n",
       "      <td>Drama</td>\n",
       "    </tr>\n",
       "    <tr>\n",
       "      <th>freq</th>\n",
       "      <td>6</td>\n",
       "      <td>45</td>\n",
       "      <td>712</td>\n",
       "    </tr>\n",
       "  </tbody>\n",
       "</table>\n",
       "</div>"
      ],
      "text/plain": [
       "              cast     director genres\n",
       "count        10789        10821  10842\n",
       "unique       10719         5067   2039\n",
       "top     Louis C.K.  Woody Allen  Drama\n",
       "freq             6           45    712"
      ]
     },
     "execution_count": 14,
     "metadata": {},
     "output_type": "execute_result"
    }
   ],
   "source": [
    "cols_with_nulls = ['cast', 'director','genres']\n",
    "tmdb[cols_with_nulls].describe()"
   ]
  },
  {
   "cell_type": "markdown",
   "metadata": {},
   "source": [
    "All missing data is located in text columns that have a lot of unique values and it makes impossible to guess a value based on frequency. Let's visualize missing values with seaborn heatmap:"
   ]
  },
  {
   "cell_type": "code",
   "execution_count": 15,
   "metadata": {},
   "outputs": [
    {
     "data": {
      "image/png": "[encoded data removed]",
      "text/plain": [
       "<Figure size 1296x864 with 1 Axes>"
      ]
     },
     "metadata": {
      "needs_background": "light"
     },
     "output_type": "display_data"
    }
   ],
   "source": [
    "plt.figure(figsize=(18,12))\n",
    "plt.title(\"Visualizing Missing Values\")\n",
    "sns.heatmap(tmdb[cols_with_nulls].isnull(), cbar=False, cmap='Blues');"
   ]
  },
  {
   "cell_type": "code",
   "execution_count": 16,
   "metadata": {},
   "outputs": [
    {
     "data": {
      "image/png": "[encoded data removed]",
      "text/plain": [
       "<Figure size 864x576 with 1 Axes>"
      ]
     },
     "metadata": {
      "needs_background": "light"
     },
     "output_type": "display_data"
    }
   ],
   "source": [
    "corr = tmdb[cols_with_nulls].isnull().corr()\n",
    "plt.figure(figsize=(12,8))\n",
    "plt.title(\"Correlation of Missing Values among Columns\")\n",
    "sns.heatmap(corr, cbar=False, cmap='Blues');"
   ]
  },
  {
   "cell_type": "markdown",
   "metadata": {},
   "source": [
    "It looks like there is a weak correlation between missing values in columns 'director' and 'genres', as well as 'director' and 'cast'. And there is almost zero correlation between 'genres' and 'cast'. As the number of missing values is quite low, let's drop these rows:"
   ]
  },
  {
   "cell_type": "code",
   "execution_count": 17,
   "metadata": {
    "scrolled": true
   },
   "outputs": [
    {
     "name": "stdout",
     "output_type": "stream",
     "text": [
      "134 rows were removed from the dataset.\n"
     ]
    }
   ],
   "source": [
    "before = tmdb.shape[0]\n",
    "tmdb.dropna(axis=0, inplace=True)\n",
    "after = tmdb.shape[0]\n",
    "\n",
    "print(before - after, 'rows were removed from the dataset.')"
   ]
  },
  {
   "cell_type": "markdown",
   "metadata": {},
   "source": [
    "Although, there is no null values left in the dataset, there are two columns containing a lot of 0s: `budget_adj` and `revenue_adj`. For the purpose of this project, I will remove these rows:"
   ]
  },
  {
   "cell_type": "code",
   "execution_count": 18,
   "metadata": {},
   "outputs": [
    {
     "data": {
      "text/plain": [
       "(3849, 13)"
      ]
     },
     "execution_count": 18,
     "metadata": {},
     "output_type": "execute_result"
    }
   ],
   "source": [
    "tmdb = tmdb[(tmdb['budget_adj'] > 0) & (tmdb['revenue_adj'] > 0)]\n",
    "tmdb.shape"
   ]
  },
  {
   "cell_type": "markdown",
   "metadata": {},
   "source": [
    "### Part 4. Data Type Convertion\n",
    "Columns to convert:\n",
    "- ***release_date*** to datetime \n",
    "- ***budget_adj*** to int\n",
    "- ***revenue_adj*** to int"
   ]
  },
  {
   "cell_type": "code",
   "execution_count": 19,
   "metadata": {},
   "outputs": [],
   "source": [
    "# convert dates to datetime\n",
    "tmdb['release_date'] = pd.to_datetime(tmdb['release_date'])"
   ]
  },
  {
   "cell_type": "markdown",
   "metadata": {},
   "source": [
    "Before converting other two columns to integers, I will convert them from dollars to millions of dollars:"
   ]
  },
  {
   "cell_type": "code",
   "execution_count": 20,
   "metadata": {},
   "outputs": [],
   "source": [
    "tmdb['budget_m'] = tmdb['budget_adj'] / 1000000\n",
    "tmdb['revenue_m'] = tmdb['revenue_adj'] / 1000000"
   ]
  },
  {
   "cell_type": "code",
   "execution_count": 21,
   "metadata": {
    "scrolled": true
   },
   "outputs": [
    {
     "data": {
      "text/html": [
       "<div>\n",
       "<style scoped>\n",
       "    .dataframe tbody tr th:only-of-type {\n",
       "        vertical-align: middle;\n",
       "    }\n",
       "\n",
       "    .dataframe tbody tr th {\n",
       "        vertical-align: top;\n",
       "    }\n",
       "\n",
       "    .dataframe thead th {\n",
       "        text-align: right;\n",
       "    }\n",
       "</style>\n",
       "<table border=\"1\" class=\"dataframe\">\n",
       "  <thead>\n",
       "    <tr style=\"text-align: right;\">\n",
       "      <th></th>\n",
       "      <th>budget_m</th>\n",
       "      <th>revenue_m</th>\n",
       "    </tr>\n",
       "  </thead>\n",
       "  <tbody>\n",
       "    <tr>\n",
       "      <th>0</th>\n",
       "      <td>138</td>\n",
       "      <td>1392</td>\n",
       "    </tr>\n",
       "    <tr>\n",
       "      <th>1</th>\n",
       "      <td>138</td>\n",
       "      <td>348</td>\n",
       "    </tr>\n",
       "    <tr>\n",
       "      <th>2</th>\n",
       "      <td>101</td>\n",
       "      <td>272</td>\n",
       "    </tr>\n",
       "    <tr>\n",
       "      <th>3</th>\n",
       "      <td>184</td>\n",
       "      <td>1903</td>\n",
       "    </tr>\n",
       "    <tr>\n",
       "      <th>4</th>\n",
       "      <td>175</td>\n",
       "      <td>1386</td>\n",
       "    </tr>\n",
       "  </tbody>\n",
       "</table>\n",
       "</div>"
      ],
      "text/plain": [
       "   budget_m  revenue_m\n",
       "0       138       1392\n",
       "1       138        348\n",
       "2       101        272\n",
       "3       184       1903\n",
       "4       175       1386"
      ]
     },
     "execution_count": 21,
     "metadata": {},
     "output_type": "execute_result"
    }
   ],
   "source": [
    "# round to the nearest integer and convert from floats to integers\n",
    "tmdb['budget_m'] = round(tmdb['budget_m']).astype(int)\n",
    "tmdb['revenue_m'] = round(tmdb['revenue_m']).astype(int)\n",
    "\n",
    "tmdb[['budget_m', 'revenue_m']].head()"
   ]
  },
  {
   "cell_type": "code",
   "execution_count": 22,
   "metadata": {},
   "outputs": [],
   "source": [
    "# drop original columns\n",
    "tmdb.drop(['budget_adj', 'revenue_adj'], axis=1, inplace=True)"
   ]
  },
  {
   "cell_type": "markdown",
   "metadata": {},
   "source": [
    "### Part 5. Rounding `popularity` Column\n",
    "For better visual perception, I will round ***popularity*** column to 2 decimal places:"
   ]
  },
  {
   "cell_type": "code",
   "execution_count": 23,
   "metadata": {},
   "outputs": [
    {
     "data": {
      "text/plain": [
       "0    32.99\n",
       "1    28.42\n",
       "2    13.11\n",
       "3    11.17\n",
       "4     9.34\n",
       "Name: popularity, dtype: float64"
      ]
     },
     "execution_count": 23,
     "metadata": {},
     "output_type": "execute_result"
    }
   ],
   "source": [
    "tmdb['popularity'] = round(tmdb['popularity'], 2)\n",
    "tmdb['popularity'][:5]"
   ]
  },
  {
   "cell_type": "markdown",
   "metadata": {},
   "source": [
    "### Part 6. Dealing with `cast`, `genres` and `director` Columns\n",
    "\"Cast\" and \"Genres\" contain multiple values separated by pipe (|) characters almost in all rows, while only a part of rows in \"Director\" column has multiple names."
   ]
  },
  {
   "cell_type": "code",
   "execution_count": 24,
   "metadata": {},
   "outputs": [
    {
     "data": {
      "text/html": [
       "<div>\n",
       "<style scoped>\n",
       "    .dataframe tbody tr th:only-of-type {\n",
       "        vertical-align: middle;\n",
       "    }\n",
       "\n",
       "    .dataframe tbody tr th {\n",
       "        vertical-align: top;\n",
       "    }\n",
       "\n",
       "    .dataframe thead th {\n",
       "        text-align: right;\n",
       "    }\n",
       "</style>\n",
       "<table border=\"1\" class=\"dataframe\">\n",
       "  <thead>\n",
       "    <tr style=\"text-align: right;\">\n",
       "      <th></th>\n",
       "      <th>cast</th>\n",
       "      <th>genres</th>\n",
       "      <th>director</th>\n",
       "    </tr>\n",
       "  </thead>\n",
       "  <tbody>\n",
       "    <tr>\n",
       "      <th>0</th>\n",
       "      <td>Chris Pratt|Bryce Dallas Howard|Irrfan Khan|Vi...</td>\n",
       "      <td>Action|Adventure|Science Fiction|Thriller</td>\n",
       "      <td>Colin Trevorrow</td>\n",
       "    </tr>\n",
       "    <tr>\n",
       "      <th>1</th>\n",
       "      <td>Tom Hardy|Charlize Theron|Hugh Keays-Byrne|Nic...</td>\n",
       "      <td>Action|Adventure|Science Fiction|Thriller</td>\n",
       "      <td>George Miller</td>\n",
       "    </tr>\n",
       "    <tr>\n",
       "      <th>2</th>\n",
       "      <td>Shailene Woodley|Theo James|Kate Winslet|Ansel...</td>\n",
       "      <td>Adventure|Science Fiction|Thriller</td>\n",
       "      <td>Robert Schwentke</td>\n",
       "    </tr>\n",
       "    <tr>\n",
       "      <th>3</th>\n",
       "      <td>Harrison Ford|Mark Hamill|Carrie Fisher|Adam D...</td>\n",
       "      <td>Action|Adventure|Science Fiction|Fantasy</td>\n",
       "      <td>J.J. Abrams</td>\n",
       "    </tr>\n",
       "    <tr>\n",
       "      <th>4</th>\n",
       "      <td>Vin Diesel|Paul Walker|Jason Statham|Michelle ...</td>\n",
       "      <td>Action|Crime|Thriller</td>\n",
       "      <td>James Wan</td>\n",
       "    </tr>\n",
       "  </tbody>\n",
       "</table>\n",
       "</div>"
      ],
      "text/plain": [
       "                                                cast  \\\n",
       "0  Chris Pratt|Bryce Dallas Howard|Irrfan Khan|Vi...   \n",
       "1  Tom Hardy|Charlize Theron|Hugh Keays-Byrne|Nic...   \n",
       "2  Shailene Woodley|Theo James|Kate Winslet|Ansel...   \n",
       "3  Harrison Ford|Mark Hamill|Carrie Fisher|Adam D...   \n",
       "4  Vin Diesel|Paul Walker|Jason Statham|Michelle ...   \n",
       "\n",
       "                                      genres          director  \n",
       "0  Action|Adventure|Science Fiction|Thriller   Colin Trevorrow  \n",
       "1  Action|Adventure|Science Fiction|Thriller     George Miller  \n",
       "2         Adventure|Science Fiction|Thriller  Robert Schwentke  \n",
       "3   Action|Adventure|Science Fiction|Fantasy       J.J. Abrams  \n",
       "4                      Action|Crime|Thriller         James Wan  "
      ]
     },
     "execution_count": 24,
     "metadata": {},
     "output_type": "execute_result"
    }
   ],
   "source": [
    "tmdb[['cast', 'genres', 'director']].head()"
   ]
  },
  {
   "cell_type": "code",
   "execution_count": 25,
   "metadata": {
    "scrolled": true
   },
   "outputs": [
    {
     "data": {
      "text/html": [
       "<div>\n",
       "<style scoped>\n",
       "    .dataframe tbody tr th:only-of-type {\n",
       "        vertical-align: middle;\n",
       "    }\n",
       "\n",
       "    .dataframe tbody tr th {\n",
       "        vertical-align: top;\n",
       "    }\n",
       "\n",
       "    .dataframe thead th {\n",
       "        text-align: right;\n",
       "    }\n",
       "</style>\n",
       "<table border=\"1\" class=\"dataframe\">\n",
       "  <thead>\n",
       "    <tr style=\"text-align: right;\">\n",
       "      <th></th>\n",
       "      <th>director</th>\n",
       "    </tr>\n",
       "  </thead>\n",
       "  <tbody>\n",
       "    <tr>\n",
       "      <th>8</th>\n",
       "      <td>Kyle Balda|Pierre Coffin</td>\n",
       "    </tr>\n",
       "    <tr>\n",
       "      <th>11</th>\n",
       "      <td>Lana Wachowski|Lilly Wachowski</td>\n",
       "    </tr>\n",
       "    <tr>\n",
       "      <th>64</th>\n",
       "      <td>Glenn Ficarra|John Requa</td>\n",
       "    </tr>\n",
       "    <tr>\n",
       "      <th>85</th>\n",
       "      <td>John Francis Daley|Jonathan M. Goldstein</td>\n",
       "    </tr>\n",
       "    <tr>\n",
       "      <th>144</th>\n",
       "      <td>Duke Johnson|Charlie Kaufman</td>\n",
       "    </tr>\n",
       "  </tbody>\n",
       "</table>\n",
       "</div>"
      ],
      "text/plain": [
       "                                     director\n",
       "8                    Kyle Balda|Pierre Coffin\n",
       "11             Lana Wachowski|Lilly Wachowski\n",
       "64                   Glenn Ficarra|John Requa\n",
       "85   John Francis Daley|Jonathan M. Goldstein\n",
       "144              Duke Johnson|Charlie Kaufman"
      ]
     },
     "execution_count": 25,
     "metadata": {},
     "output_type": "execute_result"
    }
   ],
   "source": [
    "tmdb[tmdb['director'].str.contains('|', regex=False)][['director']].head()"
   ]
  },
  {
   "cell_type": "markdown",
   "metadata": {},
   "source": [
    "As all of the columns are ordered from the most important values to the least, let's deal with them in the following way:\n",
    "- keep only first 3 names and first 3 genres of each row.\n",
    "- split them up into 3 separate rows.\n",
    "- removing rows with empty values in \"cast\" and \"genres\" (as not all movies have 3 or more values, it might produce null values in the second and third row)"
   ]
  },
  {
   "cell_type": "code",
   "execution_count": 26,
   "metadata": {},
   "outputs": [
    {
     "data": {
      "text/html": [
       "<div>\n",
       "<style scoped>\n",
       "    .dataframe tbody tr th:only-of-type {\n",
       "        vertical-align: middle;\n",
       "    }\n",
       "\n",
       "    .dataframe tbody tr th {\n",
       "        vertical-align: top;\n",
       "    }\n",
       "\n",
       "    .dataframe thead th {\n",
       "        text-align: right;\n",
       "    }\n",
       "</style>\n",
       "<table border=\"1\" class=\"dataframe\">\n",
       "  <thead>\n",
       "    <tr style=\"text-align: right;\">\n",
       "      <th></th>\n",
       "      <th>id</th>\n",
       "      <th>popularity</th>\n",
       "      <th>original_title</th>\n",
       "      <th>cast</th>\n",
       "      <th>director</th>\n",
       "      <th>runtime</th>\n",
       "      <th>genres</th>\n",
       "      <th>release_date</th>\n",
       "      <th>vote_count</th>\n",
       "      <th>vote_average</th>\n",
       "      <th>release_year</th>\n",
       "      <th>budget_m</th>\n",
       "      <th>revenue_m</th>\n",
       "    </tr>\n",
       "  </thead>\n",
       "  <tbody>\n",
       "    <tr>\n",
       "      <th>0</th>\n",
       "      <td>135397</td>\n",
       "      <td>32.99</td>\n",
       "      <td>Jurassic World</td>\n",
       "      <td>Chris Pratt|Bryce Dallas Howard|Irrfan Khan|Vi...</td>\n",
       "      <td>Colin Trevorrow</td>\n",
       "      <td>124</td>\n",
       "      <td>Action|Adventure|Science Fiction|Thriller</td>\n",
       "      <td>2015-06-09</td>\n",
       "      <td>5562</td>\n",
       "      <td>6.5</td>\n",
       "      <td>2015</td>\n",
       "      <td>138</td>\n",
       "      <td>1392</td>\n",
       "    </tr>\n",
       "    <tr>\n",
       "      <th>1</th>\n",
       "      <td>76341</td>\n",
       "      <td>28.42</td>\n",
       "      <td>Mad Max: Fury Road</td>\n",
       "      <td>Tom Hardy|Charlize Theron|Hugh Keays-Byrne|Nic...</td>\n",
       "      <td>George Miller</td>\n",
       "      <td>120</td>\n",
       "      <td>Action|Adventure|Science Fiction|Thriller</td>\n",
       "      <td>2015-05-13</td>\n",
       "      <td>6185</td>\n",
       "      <td>7.1</td>\n",
       "      <td>2015</td>\n",
       "      <td>138</td>\n",
       "      <td>348</td>\n",
       "    </tr>\n",
       "    <tr>\n",
       "      <th>2</th>\n",
       "      <td>262500</td>\n",
       "      <td>13.11</td>\n",
       "      <td>Insurgent</td>\n",
       "      <td>Shailene Woodley|Theo James|Kate Winslet|Ansel...</td>\n",
       "      <td>Robert Schwentke</td>\n",
       "      <td>119</td>\n",
       "      <td>Adventure|Science Fiction|Thriller</td>\n",
       "      <td>2015-03-18</td>\n",
       "      <td>2480</td>\n",
       "      <td>6.3</td>\n",
       "      <td>2015</td>\n",
       "      <td>101</td>\n",
       "      <td>272</td>\n",
       "    </tr>\n",
       "    <tr>\n",
       "      <th>3</th>\n",
       "      <td>140607</td>\n",
       "      <td>11.17</td>\n",
       "      <td>Star Wars: The Force Awakens</td>\n",
       "      <td>Harrison Ford|Mark Hamill|Carrie Fisher|Adam D...</td>\n",
       "      <td>J.J. Abrams</td>\n",
       "      <td>136</td>\n",
       "      <td>Action|Adventure|Science Fiction|Fantasy</td>\n",
       "      <td>2015-12-15</td>\n",
       "      <td>5292</td>\n",
       "      <td>7.5</td>\n",
       "      <td>2015</td>\n",
       "      <td>184</td>\n",
       "      <td>1903</td>\n",
       "    </tr>\n",
       "    <tr>\n",
       "      <th>4</th>\n",
       "      <td>168259</td>\n",
       "      <td>9.34</td>\n",
       "      <td>Furious 7</td>\n",
       "      <td>Vin Diesel|Paul Walker|Jason Statham|Michelle ...</td>\n",
       "      <td>James Wan</td>\n",
       "      <td>137</td>\n",
       "      <td>Action|Crime|Thriller</td>\n",
       "      <td>2015-04-01</td>\n",
       "      <td>2947</td>\n",
       "      <td>7.3</td>\n",
       "      <td>2015</td>\n",
       "      <td>175</td>\n",
       "      <td>1386</td>\n",
       "    </tr>\n",
       "  </tbody>\n",
       "</table>\n",
       "</div>"
      ],
      "text/plain": [
       "       id  popularity                original_title  \\\n",
       "0  135397       32.99                Jurassic World   \n",
       "1   76341       28.42            Mad Max: Fury Road   \n",
       "2  262500       13.11                     Insurgent   \n",
       "3  140607       11.17  Star Wars: The Force Awakens   \n",
       "4  168259        9.34                     Furious 7   \n",
       "\n",
       "                                                cast          director  \\\n",
       "0  Chris Pratt|Bryce Dallas Howard|Irrfan Khan|Vi...   Colin Trevorrow   \n",
       "1  Tom Hardy|Charlize Theron|Hugh Keays-Byrne|Nic...     George Miller   \n",
       "2  Shailene Woodley|Theo James|Kate Winslet|Ansel...  Robert Schwentke   \n",
       "3  Harrison Ford|Mark Hamill|Carrie Fisher|Adam D...       J.J. Abrams   \n",
       "4  Vin Diesel|Paul Walker|Jason Statham|Michelle ...         James Wan   \n",
       "\n",
       "   runtime                                     genres release_date  \\\n",
       "0      124  Action|Adventure|Science Fiction|Thriller   2015-06-09   \n",
       "1      120  Action|Adventure|Science Fiction|Thriller   2015-05-13   \n",
       "2      119         Adventure|Science Fiction|Thriller   2015-03-18   \n",
       "3      136   Action|Adventure|Science Fiction|Fantasy   2015-12-15   \n",
       "4      137                      Action|Crime|Thriller   2015-04-01   \n",
       "\n",
       "   vote_count  vote_average  release_year  budget_m  revenue_m  \n",
       "0        5562           6.5          2015       138       1392  \n",
       "1        6185           7.1          2015       138        348  \n",
       "2        2480           6.3          2015       101        272  \n",
       "3        5292           7.5          2015       184       1903  \n",
       "4        2947           7.3          2015       175       1386  "
      ]
     },
     "execution_count": 26,
     "metadata": {},
     "output_type": "execute_result"
    }
   ],
   "source": [
    "# create three copies of the dataframe\n",
    "df1 = tmdb.copy()  \n",
    "df2 = tmdb.copy()  \n",
    "df3 = tmdb.copy()\n",
    "\n",
    "# all 3 dataframes are like this\n",
    "df1.head()"
   ]
  },
  {
   "cell_type": "code",
   "execution_count": 27,
   "metadata": {},
   "outputs": [
    {
     "data": {
      "text/html": [
       "<div>\n",
       "<style scoped>\n",
       "    .dataframe tbody tr th:only-of-type {\n",
       "        vertical-align: middle;\n",
       "    }\n",
       "\n",
       "    .dataframe tbody tr th {\n",
       "        vertical-align: top;\n",
       "    }\n",
       "\n",
       "    .dataframe thead th {\n",
       "        text-align: right;\n",
       "    }\n",
       "</style>\n",
       "<table border=\"1\" class=\"dataframe\">\n",
       "  <thead>\n",
       "    <tr style=\"text-align: right;\">\n",
       "      <th></th>\n",
       "      <th>id</th>\n",
       "      <th>popularity</th>\n",
       "      <th>original_title</th>\n",
       "      <th>cast</th>\n",
       "      <th>director</th>\n",
       "      <th>runtime</th>\n",
       "      <th>genres</th>\n",
       "      <th>release_date</th>\n",
       "      <th>vote_count</th>\n",
       "      <th>vote_average</th>\n",
       "      <th>release_year</th>\n",
       "      <th>budget_m</th>\n",
       "      <th>revenue_m</th>\n",
       "    </tr>\n",
       "  </thead>\n",
       "  <tbody>\n",
       "    <tr>\n",
       "      <th>0</th>\n",
       "      <td>135397</td>\n",
       "      <td>32.99</td>\n",
       "      <td>Jurassic World</td>\n",
       "      <td>Chris Pratt</td>\n",
       "      <td>Colin Trevorrow</td>\n",
       "      <td>124</td>\n",
       "      <td>Action</td>\n",
       "      <td>2015-06-09</td>\n",
       "      <td>5562</td>\n",
       "      <td>6.5</td>\n",
       "      <td>2015</td>\n",
       "      <td>138</td>\n",
       "      <td>1392</td>\n",
       "    </tr>\n",
       "    <tr>\n",
       "      <th>1</th>\n",
       "      <td>76341</td>\n",
       "      <td>28.42</td>\n",
       "      <td>Mad Max: Fury Road</td>\n",
       "      <td>Tom Hardy</td>\n",
       "      <td>George Miller</td>\n",
       "      <td>120</td>\n",
       "      <td>Action</td>\n",
       "      <td>2015-05-13</td>\n",
       "      <td>6185</td>\n",
       "      <td>7.1</td>\n",
       "      <td>2015</td>\n",
       "      <td>138</td>\n",
       "      <td>348</td>\n",
       "    </tr>\n",
       "    <tr>\n",
       "      <th>2</th>\n",
       "      <td>262500</td>\n",
       "      <td>13.11</td>\n",
       "      <td>Insurgent</td>\n",
       "      <td>Shailene Woodley</td>\n",
       "      <td>Robert Schwentke</td>\n",
       "      <td>119</td>\n",
       "      <td>Adventure</td>\n",
       "      <td>2015-03-18</td>\n",
       "      <td>2480</td>\n",
       "      <td>6.3</td>\n",
       "      <td>2015</td>\n",
       "      <td>101</td>\n",
       "      <td>272</td>\n",
       "    </tr>\n",
       "    <tr>\n",
       "      <th>3</th>\n",
       "      <td>140607</td>\n",
       "      <td>11.17</td>\n",
       "      <td>Star Wars: The Force Awakens</td>\n",
       "      <td>Harrison Ford</td>\n",
       "      <td>J.J. Abrams</td>\n",
       "      <td>136</td>\n",
       "      <td>Action</td>\n",
       "      <td>2015-12-15</td>\n",
       "      <td>5292</td>\n",
       "      <td>7.5</td>\n",
       "      <td>2015</td>\n",
       "      <td>184</td>\n",
       "      <td>1903</td>\n",
       "    </tr>\n",
       "    <tr>\n",
       "      <th>4</th>\n",
       "      <td>168259</td>\n",
       "      <td>9.34</td>\n",
       "      <td>Furious 7</td>\n",
       "      <td>Vin Diesel</td>\n",
       "      <td>James Wan</td>\n",
       "      <td>137</td>\n",
       "      <td>Action</td>\n",
       "      <td>2015-04-01</td>\n",
       "      <td>2947</td>\n",
       "      <td>7.3</td>\n",
       "      <td>2015</td>\n",
       "      <td>175</td>\n",
       "      <td>1386</td>\n",
       "    </tr>\n",
       "  </tbody>\n",
       "</table>\n",
       "</div>"
      ],
      "text/plain": [
       "       id  popularity                original_title              cast  \\\n",
       "0  135397       32.99                Jurassic World       Chris Pratt   \n",
       "1   76341       28.42            Mad Max: Fury Road         Tom Hardy   \n",
       "2  262500       13.11                     Insurgent  Shailene Woodley   \n",
       "3  140607       11.17  Star Wars: The Force Awakens     Harrison Ford   \n",
       "4  168259        9.34                     Furious 7        Vin Diesel   \n",
       "\n",
       "           director  runtime     genres release_date  vote_count  \\\n",
       "0   Colin Trevorrow      124     Action   2015-06-09        5562   \n",
       "1     George Miller      120     Action   2015-05-13        6185   \n",
       "2  Robert Schwentke      119  Adventure   2015-03-18        2480   \n",
       "3       J.J. Abrams      136     Action   2015-12-15        5292   \n",
       "4         James Wan      137     Action   2015-04-01        2947   \n",
       "\n",
       "   vote_average  release_year  budget_m  revenue_m  \n",
       "0           6.5          2015       138       1392  \n",
       "1           7.1          2015       138        348  \n",
       "2           6.3          2015       101        272  \n",
       "3           7.5          2015       184       1903  \n",
       "4           7.3          2015       175       1386  "
      ]
     },
     "execution_count": 27,
     "metadata": {},
     "output_type": "execute_result"
    }
   ],
   "source": [
    "# columns to split by \"|\"\n",
    "split_columns = ['cast', 'genres', 'director']\n",
    "\n",
    "# apply split function to each column of each dataframe copy\n",
    "for c in split_columns:\n",
    "    df1[c] = df1[c].str.split('|').str[0]\n",
    "    df2[c] = df2[c].str.split('|').str[1]\n",
    "    df3[c] = df3[c].str.split('|').str[2]\n",
    "    \n",
    "df1.head()"
   ]
  },
  {
   "cell_type": "code",
   "execution_count": 28,
   "metadata": {},
   "outputs": [
    {
     "data": {
      "text/html": [
       "<div>\n",
       "<style scoped>\n",
       "    .dataframe tbody tr th:only-of-type {\n",
       "        vertical-align: middle;\n",
       "    }\n",
       "\n",
       "    .dataframe tbody tr th {\n",
       "        vertical-align: top;\n",
       "    }\n",
       "\n",
       "    .dataframe thead th {\n",
       "        text-align: right;\n",
       "    }\n",
       "</style>\n",
       "<table border=\"1\" class=\"dataframe\">\n",
       "  <thead>\n",
       "    <tr style=\"text-align: right;\">\n",
       "      <th></th>\n",
       "      <th>id</th>\n",
       "      <th>popularity</th>\n",
       "      <th>original_title</th>\n",
       "      <th>cast</th>\n",
       "      <th>director</th>\n",
       "      <th>runtime</th>\n",
       "      <th>genres</th>\n",
       "      <th>release_date</th>\n",
       "      <th>vote_count</th>\n",
       "      <th>vote_average</th>\n",
       "      <th>release_year</th>\n",
       "      <th>budget_m</th>\n",
       "      <th>revenue_m</th>\n",
       "    </tr>\n",
       "  </thead>\n",
       "  <tbody>\n",
       "    <tr>\n",
       "      <th>0</th>\n",
       "      <td>135397</td>\n",
       "      <td>32.99</td>\n",
       "      <td>Jurassic World</td>\n",
       "      <td>Bryce Dallas Howard</td>\n",
       "      <td>NaN</td>\n",
       "      <td>124</td>\n",
       "      <td>Adventure</td>\n",
       "      <td>2015-06-09</td>\n",
       "      <td>5562</td>\n",
       "      <td>6.5</td>\n",
       "      <td>2015</td>\n",
       "      <td>138</td>\n",
       "      <td>1392</td>\n",
       "    </tr>\n",
       "    <tr>\n",
       "      <th>1</th>\n",
       "      <td>76341</td>\n",
       "      <td>28.42</td>\n",
       "      <td>Mad Max: Fury Road</td>\n",
       "      <td>Charlize Theron</td>\n",
       "      <td>NaN</td>\n",
       "      <td>120</td>\n",
       "      <td>Adventure</td>\n",
       "      <td>2015-05-13</td>\n",
       "      <td>6185</td>\n",
       "      <td>7.1</td>\n",
       "      <td>2015</td>\n",
       "      <td>138</td>\n",
       "      <td>348</td>\n",
       "    </tr>\n",
       "    <tr>\n",
       "      <th>2</th>\n",
       "      <td>262500</td>\n",
       "      <td>13.11</td>\n",
       "      <td>Insurgent</td>\n",
       "      <td>Theo James</td>\n",
       "      <td>NaN</td>\n",
       "      <td>119</td>\n",
       "      <td>Science Fiction</td>\n",
       "      <td>2015-03-18</td>\n",
       "      <td>2480</td>\n",
       "      <td>6.3</td>\n",
       "      <td>2015</td>\n",
       "      <td>101</td>\n",
       "      <td>272</td>\n",
       "    </tr>\n",
       "    <tr>\n",
       "      <th>3</th>\n",
       "      <td>140607</td>\n",
       "      <td>11.17</td>\n",
       "      <td>Star Wars: The Force Awakens</td>\n",
       "      <td>Mark Hamill</td>\n",
       "      <td>NaN</td>\n",
       "      <td>136</td>\n",
       "      <td>Adventure</td>\n",
       "      <td>2015-12-15</td>\n",
       "      <td>5292</td>\n",
       "      <td>7.5</td>\n",
       "      <td>2015</td>\n",
       "      <td>184</td>\n",
       "      <td>1903</td>\n",
       "    </tr>\n",
       "    <tr>\n",
       "      <th>4</th>\n",
       "      <td>168259</td>\n",
       "      <td>9.34</td>\n",
       "      <td>Furious 7</td>\n",
       "      <td>Paul Walker</td>\n",
       "      <td>NaN</td>\n",
       "      <td>137</td>\n",
       "      <td>Crime</td>\n",
       "      <td>2015-04-01</td>\n",
       "      <td>2947</td>\n",
       "      <td>7.3</td>\n",
       "      <td>2015</td>\n",
       "      <td>175</td>\n",
       "      <td>1386</td>\n",
       "    </tr>\n",
       "  </tbody>\n",
       "</table>\n",
       "</div>"
      ],
      "text/plain": [
       "       id  popularity                original_title                 cast  \\\n",
       "0  135397       32.99                Jurassic World  Bryce Dallas Howard   \n",
       "1   76341       28.42            Mad Max: Fury Road      Charlize Theron   \n",
       "2  262500       13.11                     Insurgent           Theo James   \n",
       "3  140607       11.17  Star Wars: The Force Awakens          Mark Hamill   \n",
       "4  168259        9.34                     Furious 7          Paul Walker   \n",
       "\n",
       "  director  runtime           genres release_date  vote_count  vote_average  \\\n",
       "0      NaN      124        Adventure   2015-06-09        5562           6.5   \n",
       "1      NaN      120        Adventure   2015-05-13        6185           7.1   \n",
       "2      NaN      119  Science Fiction   2015-03-18        2480           6.3   \n",
       "3      NaN      136        Adventure   2015-12-15        5292           7.5   \n",
       "4      NaN      137            Crime   2015-04-01        2947           7.3   \n",
       "\n",
       "   release_year  budget_m  revenue_m  \n",
       "0          2015       138       1392  \n",
       "1          2015       138        348  \n",
       "2          2015       101        272  \n",
       "3          2015       184       1903  \n",
       "4          2015       175       1386  "
      ]
     },
     "execution_count": 28,
     "metadata": {},
     "output_type": "execute_result"
    }
   ],
   "source": [
    "df2.head()"
   ]
  },
  {
   "cell_type": "code",
   "execution_count": 29,
   "metadata": {},
   "outputs": [
    {
     "name": "stdout",
     "output_type": "stream",
     "text": [
      "Now, all dataframes have 0 null values: True\n"
     ]
    }
   ],
   "source": [
    "# replace missing values in second and third dataframes with values from the first dataframe\n",
    "# it will create duplicated rows but I will drop them later\n",
    "df2 = df2.combine_first(df1)\n",
    "df3 = df3.combine_first(df1)\n",
    "\n",
    "print(\"Now, all dataframes have 0 null values:\", \n",
    "      df1['director'].isnull().sum() == df2['director'].isnull().sum() == df1['director'].isnull().sum() == 0)"
   ]
  },
  {
   "cell_type": "code",
   "execution_count": 30,
   "metadata": {},
   "outputs": [
    {
     "data": {
      "text/plain": [
       "(11547, 13)"
      ]
     },
     "execution_count": 30,
     "metadata": {},
     "output_type": "execute_result"
    }
   ],
   "source": [
    "# combine all 3 datasets in 1\n",
    "tmdb_new = pd.concat([df1, df2, df3], axis=0)\n",
    "tmdb_new.shape"
   ]
  },
  {
   "cell_type": "code",
   "execution_count": 31,
   "metadata": {},
   "outputs": [
    {
     "data": {
      "text/plain": [
       "(11543, 13)"
      ]
     },
     "execution_count": 31,
     "metadata": {},
     "output_type": "execute_result"
    }
   ],
   "source": [
    "# delete duplicates\n",
    "tmdb_new.drop_duplicates(keep='first', inplace=True)\n",
    "tmdb_new.shape"
   ]
  },
  {
   "cell_type": "code",
   "execution_count": 32,
   "metadata": {},
   "outputs": [
    {
     "data": {
      "text/html": [
       "<div>\n",
       "<style scoped>\n",
       "    .dataframe tbody tr th:only-of-type {\n",
       "        vertical-align: middle;\n",
       "    }\n",
       "\n",
       "    .dataframe tbody tr th {\n",
       "        vertical-align: top;\n",
       "    }\n",
       "\n",
       "    .dataframe thead th {\n",
       "        text-align: right;\n",
       "    }\n",
       "</style>\n",
       "<table border=\"1\" class=\"dataframe\">\n",
       "  <thead>\n",
       "    <tr style=\"text-align: right;\">\n",
       "      <th></th>\n",
       "      <th>id</th>\n",
       "      <th>popularity</th>\n",
       "      <th>original_title</th>\n",
       "      <th>cast</th>\n",
       "      <th>director</th>\n",
       "      <th>runtime</th>\n",
       "      <th>genres</th>\n",
       "      <th>release_date</th>\n",
       "      <th>vote_count</th>\n",
       "      <th>vote_average</th>\n",
       "      <th>release_year</th>\n",
       "      <th>budget_m</th>\n",
       "      <th>revenue_m</th>\n",
       "    </tr>\n",
       "  </thead>\n",
       "  <tbody>\n",
       "    <tr>\n",
       "      <th>0</th>\n",
       "      <td>5</td>\n",
       "      <td>1.23</td>\n",
       "      <td>Four Rooms</td>\n",
       "      <td>Jennifer Beals</td>\n",
       "      <td>Robert Rodriguez</td>\n",
       "      <td>98</td>\n",
       "      <td>Comedy</td>\n",
       "      <td>1995-12-25</td>\n",
       "      <td>293</td>\n",
       "      <td>6.4</td>\n",
       "      <td>1995</td>\n",
       "      <td>6</td>\n",
       "      <td>6</td>\n",
       "    </tr>\n",
       "    <tr>\n",
       "      <th>1</th>\n",
       "      <td>5</td>\n",
       "      <td>1.23</td>\n",
       "      <td>Four Rooms</td>\n",
       "      <td>Antonio Banderas</td>\n",
       "      <td>Alexandre Rockwell</td>\n",
       "      <td>98</td>\n",
       "      <td>Comedy</td>\n",
       "      <td>1995-12-25</td>\n",
       "      <td>293</td>\n",
       "      <td>6.4</td>\n",
       "      <td>1995</td>\n",
       "      <td>6</td>\n",
       "      <td>6</td>\n",
       "    </tr>\n",
       "    <tr>\n",
       "      <th>2</th>\n",
       "      <td>5</td>\n",
       "      <td>1.23</td>\n",
       "      <td>Four Rooms</td>\n",
       "      <td>Tim Roth</td>\n",
       "      <td>Allison Anders</td>\n",
       "      <td>98</td>\n",
       "      <td>Comedy</td>\n",
       "      <td>1995-12-25</td>\n",
       "      <td>293</td>\n",
       "      <td>6.4</td>\n",
       "      <td>1995</td>\n",
       "      <td>6</td>\n",
       "      <td>6</td>\n",
       "    </tr>\n",
       "    <tr>\n",
       "      <th>3</th>\n",
       "      <td>11</td>\n",
       "      <td>12.04</td>\n",
       "      <td>Star Wars</td>\n",
       "      <td>Harrison Ford</td>\n",
       "      <td>George Lucas</td>\n",
       "      <td>121</td>\n",
       "      <td>Action</td>\n",
       "      <td>1977-03-20</td>\n",
       "      <td>4428</td>\n",
       "      <td>7.9</td>\n",
       "      <td>1977</td>\n",
       "      <td>40</td>\n",
       "      <td>2790</td>\n",
       "    </tr>\n",
       "    <tr>\n",
       "      <th>4</th>\n",
       "      <td>11</td>\n",
       "      <td>12.04</td>\n",
       "      <td>Star Wars</td>\n",
       "      <td>Carrie Fisher</td>\n",
       "      <td>George Lucas</td>\n",
       "      <td>121</td>\n",
       "      <td>Science Fiction</td>\n",
       "      <td>1977-03-20</td>\n",
       "      <td>4428</td>\n",
       "      <td>7.9</td>\n",
       "      <td>1977</td>\n",
       "      <td>40</td>\n",
       "      <td>2790</td>\n",
       "    </tr>\n",
       "    <tr>\n",
       "      <th>5</th>\n",
       "      <td>11</td>\n",
       "      <td>12.04</td>\n",
       "      <td>Star Wars</td>\n",
       "      <td>Mark Hamill</td>\n",
       "      <td>George Lucas</td>\n",
       "      <td>121</td>\n",
       "      <td>Adventure</td>\n",
       "      <td>1977-03-20</td>\n",
       "      <td>4428</td>\n",
       "      <td>7.9</td>\n",
       "      <td>1977</td>\n",
       "      <td>40</td>\n",
       "      <td>2790</td>\n",
       "    </tr>\n",
       "    <tr>\n",
       "      <th>6</th>\n",
       "      <td>12</td>\n",
       "      <td>3.44</td>\n",
       "      <td>Finding Nemo</td>\n",
       "      <td>Albert Brooks</td>\n",
       "      <td>Andrew Stanton</td>\n",
       "      <td>100</td>\n",
       "      <td>Animation</td>\n",
       "      <td>2003-05-30</td>\n",
       "      <td>3692</td>\n",
       "      <td>7.4</td>\n",
       "      <td>2003</td>\n",
       "      <td>111</td>\n",
       "      <td>1025</td>\n",
       "    </tr>\n",
       "    <tr>\n",
       "      <th>7</th>\n",
       "      <td>12</td>\n",
       "      <td>3.44</td>\n",
       "      <td>Finding Nemo</td>\n",
       "      <td>Ellen DeGeneres</td>\n",
       "      <td>Lee Unkrich</td>\n",
       "      <td>100</td>\n",
       "      <td>Family</td>\n",
       "      <td>2003-05-30</td>\n",
       "      <td>3692</td>\n",
       "      <td>7.4</td>\n",
       "      <td>2003</td>\n",
       "      <td>111</td>\n",
       "      <td>1025</td>\n",
       "    </tr>\n",
       "    <tr>\n",
       "      <th>8</th>\n",
       "      <td>12</td>\n",
       "      <td>3.44</td>\n",
       "      <td>Finding Nemo</td>\n",
       "      <td>Alexander Gould</td>\n",
       "      <td>Andrew Stanton</td>\n",
       "      <td>100</td>\n",
       "      <td>Animation</td>\n",
       "      <td>2003-05-30</td>\n",
       "      <td>3692</td>\n",
       "      <td>7.4</td>\n",
       "      <td>2003</td>\n",
       "      <td>111</td>\n",
       "      <td>1025</td>\n",
       "    </tr>\n",
       "    <tr>\n",
       "      <th>9</th>\n",
       "      <td>13</td>\n",
       "      <td>6.72</td>\n",
       "      <td>Forrest Gump</td>\n",
       "      <td>Gary Sinise</td>\n",
       "      <td>Robert Zemeckis</td>\n",
       "      <td>142</td>\n",
       "      <td>Romance</td>\n",
       "      <td>1994-07-06</td>\n",
       "      <td>4856</td>\n",
       "      <td>8.1</td>\n",
       "      <td>1994</td>\n",
       "      <td>81</td>\n",
       "      <td>997</td>\n",
       "    </tr>\n",
       "    <tr>\n",
       "      <th>10</th>\n",
       "      <td>13</td>\n",
       "      <td>6.72</td>\n",
       "      <td>Forrest Gump</td>\n",
       "      <td>Tom Hanks</td>\n",
       "      <td>Robert Zemeckis</td>\n",
       "      <td>142</td>\n",
       "      <td>Comedy</td>\n",
       "      <td>1994-07-06</td>\n",
       "      <td>4856</td>\n",
       "      <td>8.1</td>\n",
       "      <td>1994</td>\n",
       "      <td>81</td>\n",
       "      <td>997</td>\n",
       "    </tr>\n",
       "    <tr>\n",
       "      <th>11</th>\n",
       "      <td>13</td>\n",
       "      <td>6.72</td>\n",
       "      <td>Forrest Gump</td>\n",
       "      <td>Robin Wright</td>\n",
       "      <td>Robert Zemeckis</td>\n",
       "      <td>142</td>\n",
       "      <td>Drama</td>\n",
       "      <td>1994-07-06</td>\n",
       "      <td>4856</td>\n",
       "      <td>8.1</td>\n",
       "      <td>1994</td>\n",
       "      <td>81</td>\n",
       "      <td>997</td>\n",
       "    </tr>\n",
       "    <tr>\n",
       "      <th>12</th>\n",
       "      <td>14</td>\n",
       "      <td>3.56</td>\n",
       "      <td>American Beauty</td>\n",
       "      <td>Annette Bening</td>\n",
       "      <td>Sam Mendes</td>\n",
       "      <td>122</td>\n",
       "      <td>Drama</td>\n",
       "      <td>1999-09-15</td>\n",
       "      <td>1756</td>\n",
       "      <td>7.7</td>\n",
       "      <td>1999</td>\n",
       "      <td>20</td>\n",
       "      <td>466</td>\n",
       "    </tr>\n",
       "    <tr>\n",
       "      <th>13</th>\n",
       "      <td>14</td>\n",
       "      <td>3.56</td>\n",
       "      <td>American Beauty</td>\n",
       "      <td>Thora Birch</td>\n",
       "      <td>Sam Mendes</td>\n",
       "      <td>122</td>\n",
       "      <td>Drama</td>\n",
       "      <td>1999-09-15</td>\n",
       "      <td>1756</td>\n",
       "      <td>7.7</td>\n",
       "      <td>1999</td>\n",
       "      <td>20</td>\n",
       "      <td>466</td>\n",
       "    </tr>\n",
       "    <tr>\n",
       "      <th>14</th>\n",
       "      <td>14</td>\n",
       "      <td>3.56</td>\n",
       "      <td>American Beauty</td>\n",
       "      <td>Kevin Spacey</td>\n",
       "      <td>Sam Mendes</td>\n",
       "      <td>122</td>\n",
       "      <td>Drama</td>\n",
       "      <td>1999-09-15</td>\n",
       "      <td>1756</td>\n",
       "      <td>7.7</td>\n",
       "      <td>1999</td>\n",
       "      <td>20</td>\n",
       "      <td>466</td>\n",
       "    </tr>\n",
       "  </tbody>\n",
       "</table>\n",
       "</div>"
      ],
      "text/plain": [
       "    id  popularity   original_title              cast            director  \\\n",
       "0    5        1.23       Four Rooms    Jennifer Beals    Robert Rodriguez   \n",
       "1    5        1.23       Four Rooms  Antonio Banderas  Alexandre Rockwell   \n",
       "2    5        1.23       Four Rooms          Tim Roth      Allison Anders   \n",
       "3   11       12.04        Star Wars     Harrison Ford        George Lucas   \n",
       "4   11       12.04        Star Wars     Carrie Fisher        George Lucas   \n",
       "5   11       12.04        Star Wars       Mark Hamill        George Lucas   \n",
       "6   12        3.44     Finding Nemo     Albert Brooks      Andrew Stanton   \n",
       "7   12        3.44     Finding Nemo   Ellen DeGeneres         Lee Unkrich   \n",
       "8   12        3.44     Finding Nemo   Alexander Gould      Andrew Stanton   \n",
       "9   13        6.72     Forrest Gump       Gary Sinise     Robert Zemeckis   \n",
       "10  13        6.72     Forrest Gump         Tom Hanks     Robert Zemeckis   \n",
       "11  13        6.72     Forrest Gump      Robin Wright     Robert Zemeckis   \n",
       "12  14        3.56  American Beauty    Annette Bening          Sam Mendes   \n",
       "13  14        3.56  American Beauty       Thora Birch          Sam Mendes   \n",
       "14  14        3.56  American Beauty      Kevin Spacey          Sam Mendes   \n",
       "\n",
       "    runtime           genres release_date  vote_count  vote_average  \\\n",
       "0        98           Comedy   1995-12-25         293           6.4   \n",
       "1        98           Comedy   1995-12-25         293           6.4   \n",
       "2        98           Comedy   1995-12-25         293           6.4   \n",
       "3       121           Action   1977-03-20        4428           7.9   \n",
       "4       121  Science Fiction   1977-03-20        4428           7.9   \n",
       "5       121        Adventure   1977-03-20        4428           7.9   \n",
       "6       100        Animation   2003-05-30        3692           7.4   \n",
       "7       100           Family   2003-05-30        3692           7.4   \n",
       "8       100        Animation   2003-05-30        3692           7.4   \n",
       "9       142          Romance   1994-07-06        4856           8.1   \n",
       "10      142           Comedy   1994-07-06        4856           8.1   \n",
       "11      142            Drama   1994-07-06        4856           8.1   \n",
       "12      122            Drama   1999-09-15        1756           7.7   \n",
       "13      122            Drama   1999-09-15        1756           7.7   \n",
       "14      122            Drama   1999-09-15        1756           7.7   \n",
       "\n",
       "    release_year  budget_m  revenue_m  \n",
       "0           1995         6          6  \n",
       "1           1995         6          6  \n",
       "2           1995         6          6  \n",
       "3           1977        40       2790  \n",
       "4           1977        40       2790  \n",
       "5           1977        40       2790  \n",
       "6           2003       111       1025  \n",
       "7           2003       111       1025  \n",
       "8           2003       111       1025  \n",
       "9           1994        81        997  \n",
       "10          1994        81        997  \n",
       "11          1994        81        997  \n",
       "12          1999        20        466  \n",
       "13          1999        20        466  \n",
       "14          1999        20        466  "
      ]
     },
     "execution_count": 32,
     "metadata": {},
     "output_type": "execute_result"
    }
   ],
   "source": [
    "# sort dataframe by 'id' column and print first 15 rows\n",
    "tmdb_new = tmdb_new.sort_values(by=['id'], ignore_index=True)\n",
    "tmdb_new.head(15)"
   ]
  },
  {
   "cell_type": "markdown",
   "metadata": {},
   "source": [
    "<a id='eda'></a>\n",
    "## Exploratory Data Analysis\n",
    "### Is higher budget always associated with higher revenue?"
   ]
  },
  {
   "cell_type": "code",
   "execution_count": 33,
   "metadata": {},
   "outputs": [
    {
     "data": {
      "image/png": "[encoded data removed]",
      "text/plain": [
       "<Figure size 432x288 with 1 Axes>"
      ]
     },
     "metadata": {
      "needs_background": "light"
     },
     "output_type": "display_data"
    }
   ],
   "source": [
    "# create a scatter plot \n",
    "tmdb_new.plot(x='budget_m', y='revenue_m', kind='scatter')\n",
    "plt.title(\"Correlation between Budget and Revenue\")\n",
    "plt.xlabel(\"Budget, in millions of dollars\")\n",
    "plt.ylabel(\"Revenue, in millions of dollars\");"
   ]
  },
  {
   "cell_type": "markdown",
   "metadata": {},
   "source": [
    "There are few outliers. Zooming (by limiting `x` and `y` axis) can help to see the tendency more clear."
   ]
  },
  {
   "cell_type": "code",
   "execution_count": 34,
   "metadata": {},
   "outputs": [
    {
     "data": {
      "image/png": "[encoded data removed]",
      "text/plain": [
       "<Figure size 432x288 with 1 Axes>"
      ]
     },
     "metadata": {
      "needs_background": "light"
     },
     "output_type": "display_data"
    }
   ],
   "source": [
    "tmdb_new.plot(x='budget_m', y='revenue_m', kind='scatter', xlim=(0,200), ylim=(0,1000))\n",
    "plt.title(\"Correlation between Budget and Revenue without Outliers\")\n",
    "plt.xlabel(\"Budget, in millions of dollars\")\n",
    "plt.ylabel(\"Revenue, in millions of dollars\");"
   ]
  },
  {
   "cell_type": "markdown",
   "metadata": {},
   "source": [
    "It looks like there is a weak positive correlation. To be sure, let's count the Pearson's correlation coefficient:"
   ]
  },
  {
   "cell_type": "code",
   "execution_count": 35,
   "metadata": {
    "scrolled": true
   },
   "outputs": [
    {
     "data": {
      "text/html": [
       "<div>\n",
       "<style scoped>\n",
       "    .dataframe tbody tr th:only-of-type {\n",
       "        vertical-align: middle;\n",
       "    }\n",
       "\n",
       "    .dataframe tbody tr th {\n",
       "        vertical-align: top;\n",
       "    }\n",
       "\n",
       "    .dataframe thead th {\n",
       "        text-align: right;\n",
       "    }\n",
       "</style>\n",
       "<table border=\"1\" class=\"dataframe\">\n",
       "  <thead>\n",
       "    <tr style=\"text-align: right;\">\n",
       "      <th></th>\n",
       "      <th>budget_m</th>\n",
       "      <th>revenue_m</th>\n",
       "    </tr>\n",
       "  </thead>\n",
       "  <tbody>\n",
       "    <tr>\n",
       "      <th>budget_m</th>\n",
       "      <td>1.000000</td>\n",
       "      <td>0.570101</td>\n",
       "    </tr>\n",
       "    <tr>\n",
       "      <th>revenue_m</th>\n",
       "      <td>0.570101</td>\n",
       "      <td>1.000000</td>\n",
       "    </tr>\n",
       "  </tbody>\n",
       "</table>\n",
       "</div>"
      ],
      "text/plain": [
       "           budget_m  revenue_m\n",
       "budget_m   1.000000   0.570101\n",
       "revenue_m  0.570101   1.000000"
      ]
     },
     "execution_count": 35,
     "metadata": {},
     "output_type": "execute_result"
    }
   ],
   "source": [
    "tmdb_new[['budget_m','revenue_m']].corr()"
   ]
  },
  {
   "cell_type": "markdown",
   "metadata": {},
   "source": [
    "Pearson's correlation coefficient is about 0.57 and it shows moderate correlation, which means that 57% of revenues of movies can be predicted from the relationship between budgets and revenues. So answering the question, higher budget is not always associated with higher revenue but we can observe moderate correlation between these 2 variables."
   ]
  },
  {
   "cell_type": "markdown",
   "metadata": {},
   "source": [
    "### Which genres are associated with the highest profits per movie?"
   ]
  },
  {
   "cell_type": "code",
   "execution_count": 36,
   "metadata": {},
   "outputs": [],
   "source": [
    "# create a profit column\n",
    "tmdb_new['profit_m'] = tmdb_new['revenue_m'] - tmdb_new['budget_m']"
   ]
  },
  {
   "cell_type": "code",
   "execution_count": 37,
   "metadata": {
    "scrolled": true
   },
   "outputs": [
    {
     "data": {
      "image/png": "[encoded data removed]",
      "text/plain": [
       "<Figure size 576x288 with 1 Axes>"
      ]
     },
     "metadata": {
      "needs_background": "light"
     },
     "output_type": "display_data"
    }
   ],
   "source": [
    "# group by genres and count average profit per movie of each genre\n",
    "genre_profit = tmdb_new.groupby('genres').profit_m.mean().sort_values(ascending=False)\n",
    "plt.figure(figsize=(8,4))\n",
    "genre_profit.plot(kind='bar')\n",
    "plt.title(\"Average Profit per Movie\")\n",
    "plt.xlabel(\"Genres\")\n",
    "plt.ylabel(\"Profit, in millions of dollars\");"
   ]
  },
  {
   "cell_type": "markdown",
   "metadata": {},
   "source": [
    "The most profitable genres (with profits more than $150 million per movie) are:\n",
    "- Animation \n",
    "- Adventure\n",
    "- Family \n",
    "- Fantasy\n",
    "\n",
    "As well, there are 2 other genres with high profits ($100-150M):\n",
    "- Action \n",
    "- Science Fiction\n",
    "\n",
    "While the least profitable are:\n",
    "- Documentary\n",
    "- Foreign"
   ]
  },
  {
   "cell_type": "markdown",
   "metadata": {},
   "source": [
    "### Which genres are the most popular?\n",
    "Popularity on TMDb is a cumulative metric, which is based on:\n",
    "- Number of votes for the day\n",
    "- Number of views for the day\n",
    "- Number of users who marked it as a \"favourite\" for the day\n",
    "- Number of users who added it to their \"watchlist\" for the day\n",
    "- Release date\n",
    "- Number of total votes\n",
    "- Previous days score\n",
    "\n",
    "Let's see which genres are the most popular."
   ]
  },
  {
   "cell_type": "code",
   "execution_count": 38,
   "metadata": {},
   "outputs": [
    {
     "data": {
      "image/png": "[encoded data removed]",
      "text/plain": [
       "<Figure size 576x288 with 1 Axes>"
      ]
     },
     "metadata": {
      "needs_background": "light"
     },
     "output_type": "display_data"
    }
   ],
   "source": [
    "# group by genres, count average popularity per genre, sort from highest values to lowest\n",
    "genre_popularity = tmdb_new.groupby('genres').popularity.mean().sort_values(ascending=False)\n",
    "plt.figure(figsize=(8,4))\n",
    "genre_popularity.plot(kind='bar')\n",
    "plt.title(\"Average Popularity Rating\")\n",
    "plt.xlabel(\"Genres\")\n",
    "plt.ylabel(\"Popularity\");"
   ]
  },
  {
   "cell_type": "markdown",
   "metadata": {},
   "source": [
    "The most popular genres are the same as the most profitable (although in a slightly different order): \n",
    "- Science Fiction\n",
    "- Adventure\n",
    "- Fantasy\n",
    "- Animation\n",
    "- Action \n",
    "- Family\n",
    "\n",
    "While the most unpopular are:\n",
    "- Documentary\n",
    "- TV Movie\n",
    "- Foreign"
   ]
  },
  {
   "cell_type": "markdown",
   "metadata": {},
   "source": [
    "### And which genres are the most voted?\n",
    "How many people watched and voted for a movie is a part of popularity variable, but it is interesting to see how different (or similar) the results will be."
   ]
  },
  {
   "cell_type": "code",
   "execution_count": 39,
   "metadata": {},
   "outputs": [
    {
     "data": {
      "image/png": "[encoded data removed]",
      "text/plain": [
       "<Figure size 576x288 with 1 Axes>"
      ]
     },
     "metadata": {
      "needs_background": "light"
     },
     "output_type": "display_data"
    }
   ],
   "source": [
    "# group by genres, count average vore count per genre, sort from highest values to lowest\n",
    "genre_votes = tmdb_new.groupby('genres').vote_count.mean().sort_values(ascending=False)\n",
    "plt.figure(figsize=(8,4))\n",
    "genre_votes.plot(kind='bar')\n",
    "plt.title(\"Average Vote Count per Genre\")\n",
    "plt.xlabel(\"Genres\")\n",
    "plt.ylabel(\"Vote Count\");"
   ]
  },
  {
   "cell_type": "markdown",
   "metadata": {},
   "source": [
    "We see that the situation is exactly the same as with popularity. The most voted genres are:\n",
    "- Science Fiction\n",
    "- Adventure\n",
    "- Fantasy\n",
    "- Animation\n",
    "- Action \n",
    "- Family\n",
    "\n",
    "And the least voted are:\n",
    "- Documentary\n",
    "- TV Movie\n",
    "- Foreign"
   ]
  },
  {
   "cell_type": "markdown",
   "metadata": {},
   "source": [
    "### Is a movie runtime associated with popularity?"
   ]
  },
  {
   "cell_type": "code",
   "execution_count": 40,
   "metadata": {},
   "outputs": [
    {
     "data": {
      "image/png": "[encoded data removed]",
      "text/plain": [
       "<Figure size 432x288 with 1 Axes>"
      ]
     },
     "metadata": {
      "needs_background": "light"
     },
     "output_type": "display_data"
    }
   ],
   "source": [
    "tmdb_new.plot(x='runtime', y='popularity', kind='scatter')\n",
    "plt.title(\"Correlation between Lenght and Popularity of the Movie\")\n",
    "plt.xlabel(\"runtime, in minutes\");"
   ]
  },
  {
   "cell_type": "markdown",
   "metadata": {},
   "source": [
    "Based on the scatterplot, we can see that the movies that have duration less than 1 hour and more than 3 hour tend to be unpopular. While the most popular runtime is about 2 hours."
   ]
  },
  {
   "cell_type": "markdown",
   "metadata": {},
   "source": [
    "### Bonus: What are the most popular movies / actors / directors?"
   ]
  },
  {
   "cell_type": "code",
   "execution_count": 41,
   "metadata": {
    "scrolled": true
   },
   "outputs": [
    {
     "data": {
      "image/png": "[encoded data removed]",
      "text/plain": [
       "<Figure size 576x360 with 1 Axes>"
      ]
     },
     "metadata": {
      "needs_background": "light"
     },
     "output_type": "display_data"
    }
   ],
   "source": [
    "# top popular movies\n",
    "popular_movies = tmdb_new.groupby('original_title').popularity.max().sort_values(ascending=False)[:10]\n",
    "plt.figure(figsize=(8,5))\n",
    "popular_movies.plot(kind='barh')\n",
    "plt.title(\"Top 10 Popular Movies\")\n",
    "plt.xlabel(\"Popularity\")\n",
    "plt.ylabel(\"Movies\");"
   ]
  },
  {
   "cell_type": "code",
   "execution_count": 42,
   "metadata": {},
   "outputs": [
    {
     "data": {
      "image/png": "[encoded data removed]",
      "text/plain": [
       "<Figure size 576x360 with 1 Axes>"
      ]
     },
     "metadata": {
      "needs_background": "light"
     },
     "output_type": "display_data"
    }
   ],
   "source": [
    "# top 10 actors are chosen based on average rating per actor\n",
    "cast_popularity = tmdb_new.groupby('cast').popularity.mean().sort_values(ascending=False)[:10]\n",
    "plt.figure(figsize=(8,5))\n",
    "cast_popularity.plot(kind='barh')\n",
    "plt.title(\"Top 10 Popular Actors\")\n",
    "plt.xlabel(\"Popularity\")\n",
    "plt.ylabel(\"Actors\");"
   ]
  },
  {
   "cell_type": "markdown",
   "metadata": {},
   "source": [
    "Not surprisingly, popular actors are the ones who played main roles in the most popular movies. For example, Chris Pratt was in the movies \"Jurassic World\" and \"Guardians of the Galaxy\". Hugh Keays-Byrne played a role in \"Mad Max: Fury Road\"."
   ]
  },
  {
   "cell_type": "code",
   "execution_count": 43,
   "metadata": {
    "scrolled": true
   },
   "outputs": [
    {
     "data": {
      "image/png": "[encoded data removed]",
      "text/plain": [
       "<Figure size 576x360 with 1 Axes>"
      ]
     },
     "metadata": {
      "needs_background": "light"
     },
     "output_type": "display_data"
    }
   ],
   "source": [
    "# top 10 directors are chosen based on average rating per director\n",
    "director_popularity = tmdb_new.groupby('director').popularity.mean().sort_values(ascending=False)[:10]\n",
    "plt.figure(figsize=(8,5))\n",
    "director_popularity.plot(kind='barh')\n",
    "plt.title(\"Top 10 Popular Directors\")\n",
    "plt.xlabel(\"Popularity\")\n",
    "plt.ylabel(\"Directors\");"
   ]
  },
  {
   "cell_type": "markdown",
   "metadata": {},
   "source": [
    "The same happens with the directors: \n",
    "- Colin Trevorrow takes the first place for the movie \"Jurassic World\".\n",
    "- David Leitch and Chad Stahelski take second and third places for the movie \"John Wick\"\n",
    "- Joe Russo - for \"Capitan America: The Winter Soldier\"\n",
    "- etc.\n",
    "\n",
    "The issue with these ratings is that they depend a lot on which movies are represented in the dataframe. One or two movies with low popularity can significately pull down the average popularity of a director or an actor. Conversely, having one single movie with high popularity will pull an actor or director to the top. So, we cannot say for sure, which ones are more popular."
   ]
  },
  {
   "cell_type": "markdown",
   "metadata": {},
   "source": [
    "<a id='conclusions'></a>\n",
    "## Conclusions\n",
    "### In the Data Wranging part of the project:\n",
    "I removed:\n",
    "- unnecessary columns\n",
    "- duplicated rows\n",
    "- rows with missing values\n",
    "\n",
    "Dealing with missing data could be done in a different way. For example, I could replace null values with the most frequent ones but columns had multiple unique values and I didn't want to jeopardize investigation. As well, I was thinking to remove columns 'budget_adj' and 'revenue_adj', instead of removing 65% of rows with zero values. But the analysis was going to be based on these columns so I had to keep them sacrificing part of the rows.\n",
    "\n",
    "For convenince purposes, I converted few columns to different data types and rounded where it was necessary.\n",
    "\n",
    "To deal with the columns containing multiple values separated by pipe (|) characters, I split the first 3 values into 3 rows. \n",
    "\n",
    "### The questions and conclusions made in the Exploratory Data Analysis:\n",
    "#### Is higher budget always associated with higher revenue?\n",
    "Using scatter plots and Pearson's correlation coefficient I came to a conclusion that higher budget is not always associated with higher revenue but we can observe moderate correlation between these 2 variables.\n",
    "\n",
    "#### Which genres are associated with the highest profits per movie? Which genres are the most popular? And which ones are the most voted?\n",
    "Using `group by` method and bar plots, I found out that the most popular and the most voted genres are:\n",
    "- Science Fiction\n",
    "- Adventure\n",
    "- Fantasy\n",
    "- Animation\n",
    "- Action\n",
    "- Family\n",
    "\n",
    "The order is very similar for the most profitable genres: \n",
    "- Animation\n",
    "- Adventure\n",
    "- Family\n",
    "- Fantasy\n",
    "- Action\n",
    "- Science Fiction\n",
    "\n",
    "But as we see, Science Fiction takes the first place in popularity but sixth in profitability, while Family movies take third place in profitability but sixth in popularity. It can be explained by high expences for production of Science Fiction movies and comparely low expences for Family movies.\n",
    "\n",
    "The least popular and least profitable genres are:\n",
    "- Documentary\n",
    "- TV Movie\n",
    "- Foreign\n",
    "\n",
    "#### Is the movie runtime associated with popularity?\n",
    "Based on the scatterplot, we saw that the movies with the duration of less than 1 hour and more than 3 hour tend to be unpopular. While the most popular runtime is about 2 hours.\n",
    "\n",
    "#### What are the most popular movies / actors / directors?\n",
    "Top 10 popular movies on TMDb are:\n",
    "- Jurassic World                        \n",
    "- Mad Max: Fury Road                       \n",
    "- Interstellar                             \n",
    "- Guardians of the Galaxy                  \n",
    "- Insurgent                                \n",
    "- Captain America: The Winter Soldier      \n",
    "- Star Wars                                \n",
    "- John Wick                                \n",
    "- Star Wars: The Force Awakens             \n",
    "- The Hunger Games: Mockingjay - Part 1\n",
    "\n",
    "But I could not determine the most popular actors and director because they depend a lot on which movies are represented in the dataframe. The cleaned dataframe consisted of around 3800 movies, that's around 1-3 movies per director (and similarly for actors). It means that one movie with low popularity can significately pull down the average popularity of a director or an actor. Conversely, having just one single movie in the dataframe with high popularity will pull an actor or a director to the top. So, we cannot say for sure, which ones are more popular."
   ]
  }
 ],
 "metadata": {
  "kernelspec": {
   "display_name": "Python 3",
   "language": "python",
   "name": "python3"
  },
  "language_info": {
   "codemirror_mode": {
    "name": "ipython",
    "version": 3
   },
   "file_extension": ".py",
   "mimetype": "text/x-python",
   "name": "python",
   "nbconvert_exporter": "python",
   "pygments_lexer": "ipython3",
   "version": "3.7.6"
  }
 },
 "nbformat": 4,
 "nbformat_minor": 4
}
